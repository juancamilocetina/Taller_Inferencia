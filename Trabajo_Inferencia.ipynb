{
  "nbformat": 4,
  "nbformat_minor": 0,
  "metadata": {
    "colab": {
      "name": "Trabajo_Inferencia.ipynb",
      "provenance": [],
      "collapsed_sections": [],
      "include_colab_link": true
    },
    "kernelspec": {
      "name": "ir",
      "display_name": "R"
    },
    "language_info": {
      "name": "R"
    }
  },
  "cells": [
    {
      "cell_type": "markdown",
      "metadata": {
        "id": "view-in-github",
        "colab_type": "text"
      },
      "source": [
        "<a href=\"https://colab.research.google.com/github/juancamilocetina/Taller_Inferencia/blob/main/Trabajo_Inferencia.ipynb\" target=\"_parent\"><img src=\"https://colab.research.google.com/assets/colab-badge.svg\" alt=\"Open In Colab\"/></a>"
      ]
    },
    {
      "cell_type": "code",
      "source": [
        "# Libreria\n",
        "install.packages(c('corrplot','samplingbook','TeachingDemos','readxl','readr','dplyr','ggplot2','boot','bbmle','descr','Hmisc','psych'))\n",
        "devtools::install_github('fhernanb/stests', force=TRUE)"
      ],
      "metadata": {
        "colab": {
          "base_uri": "https://localhost:8080/"
        },
        "id": "oJ6lmN9wfidy",
        "outputId": "4a4f710d-5a40-43dd-a6d9-38d50ce85107"
      },
      "execution_count": null,
      "outputs": [
        {
          "output_type": "stream",
          "name": "stderr",
          "text": [
            "Installing packages into ‘/usr/local/lib/R/site-library’\n",
            "(as ‘lib’ is unspecified)\n",
            "\n",
            "also installing the dependencies ‘Rcpp’, ‘lpSolve’, ‘minqa’, ‘mitools’, ‘png’, ‘jpeg’, ‘checkmate’, ‘htmlwidgets’, ‘tmvnsim’, ‘pps’, ‘sampling’, ‘survey’, ‘numDeriv’, ‘bdsmatrix’, ‘mvtnorm’, ‘xtable’, ‘Formula’, ‘latticeExtra’, ‘gridExtra’, ‘htmlTable’, ‘viridis’, ‘mnormt’\n",
            "\n",
            "\n",
            "Downloading GitHub repo fhernanb/stests@HEAD\n",
            "\n"
          ]
        },
        {
          "output_type": "stream",
          "name": "stdout",
          "text": [
            "expm (NA -> 0.999-6) [CRAN]\n"
          ]
        },
        {
          "output_type": "stream",
          "name": "stderr",
          "text": [
            "Installing 1 packages: expm\n",
            "\n",
            "Installing package into ‘/usr/local/lib/R/site-library’\n",
            "(as ‘lib’ is unspecified)\n",
            "\n"
          ]
        },
        {
          "output_type": "stream",
          "name": "stdout",
          "text": [
            "* checking for file ‘/tmp/Rtmp3qBjob/remotes3f7f729412/fhernanb-stests-02317bd/DESCRIPTION’ ... OK\n",
            "* preparing ‘stests’:\n",
            "* checking DESCRIPTION meta-information ... OK\n",
            "* checking for LF line-endings in source and make files and shell scripts\n",
            "* checking for empty or unneeded directories\n",
            "Omitted ‘LazyData’ from DESCRIPTION\n",
            "* building ‘stests_0.1.0.tar.gz’\n",
            "\n"
          ]
        },
        {
          "output_type": "stream",
          "name": "stderr",
          "text": [
            "Installing package into ‘/usr/local/lib/R/site-library’\n",
            "(as ‘lib’ is unspecified)\n",
            "\n"
          ]
        }
      ]
    },
    {
      "cell_type": "code",
      "source": [
        "library(corrplot)\n",
        "library(samplingbook)\n",
        "library(TeachingDemos)\n",
        "library(readxl)\n",
        "library(ggplot2)\n",
        "library(dplyr)\n",
        "library(boot)\n",
        "library(stats4) # para la funcion mle\n",
        "library(bbmle) # para la funcion mle2\n",
        "library(descr)\n",
        "library(Hmisc)\n",
        "library(stests)\n",
        "library(psych)"
      ],
      "metadata": {
        "colab": {
          "base_uri": "https://localhost:8080/"
        },
        "id": "KxkxzzeEfl-R",
        "outputId": "d1ca89d5-736b-47b3-87ec-6eec4213cd31"
      },
      "execution_count": null,
      "outputs": [
        {
          "output_type": "stream",
          "name": "stderr",
          "text": [
            "corrplot 0.92 loaded\n",
            "\n",
            "Loading required package: pps\n",
            "\n",
            "Loading required package: sampling\n",
            "\n",
            "Loading required package: survey\n",
            "\n",
            "Loading required package: grid\n",
            "\n",
            "Loading required package: Matrix\n",
            "\n",
            "Loading required package: survival\n",
            "\n",
            "\n",
            "Attaching package: ‘survival’\n",
            "\n",
            "\n",
            "The following objects are masked from ‘package:sampling’:\n",
            "\n",
            "    cluster, strata\n",
            "\n",
            "\n",
            "\n",
            "Attaching package: ‘survey’\n",
            "\n",
            "\n",
            "The following object is masked from ‘package:graphics’:\n",
            "\n",
            "    dotchart\n",
            "\n",
            "\n",
            "\n",
            "Attaching package: ‘dplyr’\n",
            "\n",
            "\n",
            "The following objects are masked from ‘package:stats’:\n",
            "\n",
            "    filter, lag\n",
            "\n",
            "\n",
            "The following objects are masked from ‘package:base’:\n",
            "\n",
            "    intersect, setdiff, setequal, union\n",
            "\n",
            "\n",
            "\n",
            "Attaching package: ‘boot’\n",
            "\n",
            "\n",
            "The following object is masked from ‘package:survival’:\n",
            "\n",
            "    aml\n",
            "\n",
            "\n",
            "\n",
            "Attaching package: ‘bbmle’\n",
            "\n",
            "\n",
            "The following object is masked from ‘package:dplyr’:\n",
            "\n",
            "    slice\n",
            "\n",
            "\n",
            "Loading required package: lattice\n",
            "\n",
            "\n",
            "Attaching package: ‘lattice’\n",
            "\n",
            "\n",
            "The following object is masked from ‘package:boot’:\n",
            "\n",
            "    melanoma\n",
            "\n",
            "\n",
            "Loading required package: Formula\n",
            "\n",
            "\n",
            "Attaching package: ‘Hmisc’\n",
            "\n",
            "\n",
            "The following objects are masked from ‘package:dplyr’:\n",
            "\n",
            "    src, summarize\n",
            "\n",
            "\n",
            "The following objects are masked from ‘package:TeachingDemos’:\n",
            "\n",
            "    cnvrt.coords, subplot\n",
            "\n",
            "\n",
            "The following object is masked from ‘package:survey’:\n",
            "\n",
            "    deff\n",
            "\n",
            "\n",
            "The following objects are masked from ‘package:base’:\n",
            "\n",
            "    format.pval, units\n",
            "\n",
            "\n",
            "\n",
            "Attaching package: ‘stests’\n",
            "\n",
            "\n",
            "The following object is masked from ‘package:TeachingDemos’:\n",
            "\n",
            "    z.test\n",
            "\n",
            "\n",
            "The following object is masked from ‘package:stats’:\n",
            "\n",
            "    var.test\n",
            "\n",
            "\n",
            "\n",
            "Attaching package: ‘psych’\n",
            "\n",
            "\n",
            "The following object is masked from ‘package:Hmisc’:\n",
            "\n",
            "    describe\n",
            "\n",
            "\n",
            "The following object is masked from ‘package:boot’:\n",
            "\n",
            "    logit\n",
            "\n",
            "\n",
            "The following objects are masked from ‘package:ggplot2’:\n",
            "\n",
            "    %+%, alpha\n",
            "\n",
            "\n"
          ]
        }
      ]
    },
    {
      "cell_type": "code",
      "execution_count": null,
      "metadata": {
        "id": "bIyKHaV2TuTf"
      },
      "outputs": [],
      "source": [
        "url_ds <- 'https://raw.githubusercontent.com/jldbc/coffee-quality-database/master/data/arabica_ratings_raw.csv'"
      ]
    },
    {
      "cell_type": "code",
      "source": [
        "# Importación de los datos\n",
        "library(readr)\n",
        "dataset <- read_csv(url_ds)"
      ],
      "metadata": {
        "colab": {
          "base_uri": "https://localhost:8080/"
        },
        "id": "p3S-GuKIUaSs",
        "outputId": "98117b71-3233-48d5-dacc-dfe8f7a85047"
      },
      "execution_count": null,
      "outputs": [
        {
          "output_type": "stream",
          "name": "stderr",
          "text": [
            "\u001b[1m\u001b[22mNew names:\n",
            "\u001b[36m•\u001b[39m `` -> `...1`\n",
            "\u001b[36m•\u001b[39m `` -> `...52`\n",
            "\u001b[1mRows: \u001b[22m\u001b[34m1312\u001b[39m \u001b[1mColumns: \u001b[22m\u001b[34m53\u001b[39m\n",
            "\u001b[36m──\u001b[39m \u001b[1mColumn specification\u001b[22m \u001b[36m────────────────────────────────────────────────────────\u001b[39m\n",
            "\u001b[1mDelimiter:\u001b[22m \",\"\n",
            "\u001b[31mchr\u001b[39m (31): Species, Owner, Country of Origin, Farm Name, Lot Number, Mill, IC...\n",
            "\u001b[32mdbl\u001b[39m (14): ...1, quality_score, Number of Bags, Aroma, Flavor, Aftertaste, Ac...\n",
            "\u001b[33mlgl\u001b[39m  (8): view_certificate_1, view_certificate_2, Cupping Protocol and Descr...\n",
            "\n",
            "\u001b[36mℹ\u001b[39m Use `spec()` to retrieve the full column specification for this data.\n",
            "\u001b[36mℹ\u001b[39m Specify the column types or set `show_col_types = FALSE` to quiet this message.\n"
          ]
        }
      ]
    },
    {
      "cell_type": "code",
      "source": [
        "head(dataset)"
      ],
      "metadata": {
        "colab": {
          "base_uri": "https://localhost:8080/",
          "height": 757
        },
        "id": "emOul_60Uceb",
        "outputId": "764bbc17-8ab0-45fc-9ab9-184e7cc457ca"
      },
      "execution_count": null,
      "outputs": [
        {
          "output_type": "display_data",
          "data": {
            "text/html": [
              "<table class=\"dataframe\">\n",
              "<caption>A tibble: 6 × 53</caption>\n",
              "<thead>\n",
              "\t<tr><th scope=col>...1</th><th scope=col>quality_score</th><th scope=col>view_certificate_1</th><th scope=col>view_certificate_2</th><th scope=col>Cupping Protocol and Descriptors</th><th scope=col>View Green Analysis Details</th><th scope=col>Request a Sample</th><th scope=col>Species</th><th scope=col>Owner</th><th scope=col>Country of Origin</th><th scope=col>⋯</th><th scope=col>Quakers</th><th scope=col>Color</th><th scope=col>Category Two Defects</th><th scope=col>NA.3</th><th scope=col>Expiration</th><th scope=col>Certification Body</th><th scope=col>Certification Address</th><th scope=col>Certification Contact</th><th scope=col>...52</th><th scope=col>Notes</th></tr>\n",
              "\t<tr><th scope=col>&lt;dbl&gt;</th><th scope=col>&lt;dbl&gt;</th><th scope=col>&lt;lgl&gt;</th><th scope=col>&lt;lgl&gt;</th><th scope=col>&lt;lgl&gt;</th><th scope=col>&lt;lgl&gt;</th><th scope=col>&lt;lgl&gt;</th><th scope=col>&lt;chr&gt;</th><th scope=col>&lt;chr&gt;</th><th scope=col>&lt;chr&gt;</th><th scope=col>⋯</th><th scope=col>&lt;dbl&gt;</th><th scope=col>&lt;chr&gt;</th><th scope=col>&lt;chr&gt;</th><th scope=col>&lt;lgl&gt;</th><th scope=col>&lt;chr&gt;</th><th scope=col>&lt;chr&gt;</th><th scope=col>&lt;chr&gt;</th><th scope=col>&lt;chr&gt;</th><th scope=col>&lt;lgl&gt;</th><th scope=col>&lt;chr&gt;</th></tr>\n",
              "</thead>\n",
              "<tbody>\n",
              "\t<tr><td>0</td><td>90.58</td><td>NA</td><td>NA</td><td>NA</td><td>NA</td><td>NA</td><td>Arabica</td><td>metad plc               </td><td>Ethiopia </td><td>⋯</td><td>0</td><td>Green       </td><td>0 full defects</td><td>NA</td><td>April 3rd, 2016    </td><td>METAD Agricultural Development plc</td><td>BAWA Center, 3rd Floor (Gerji), Addis Ababa, Ethiopia                </td><td>Aman Adinew (Emebet Dinku) - +251-116-292534, +251-911-519196      </td><td>NA</td><td>NA</td></tr>\n",
              "\t<tr><td>1</td><td>89.92</td><td>NA</td><td>NA</td><td>NA</td><td>NA</td><td>NA</td><td>Arabica</td><td>metad plc               </td><td>Ethiopia </td><td>⋯</td><td>0</td><td>Green       </td><td>1 full defects</td><td>NA</td><td>April 3rd, 2016    </td><td>METAD Agricultural Development plc</td><td>BAWA Center, 3rd Floor (Gerji), Addis Ababa, Ethiopia                </td><td>Aman Adinew (Emebet Dinku) - +251-116-292534, +251-911-519196      </td><td>NA</td><td>NA</td></tr>\n",
              "\t<tr><td>2</td><td>89.75</td><td>NA</td><td>NA</td><td>NA</td><td>NA</td><td>NA</td><td>Arabica</td><td>Grounds for Health Admin</td><td>Guatemala</td><td>⋯</td><td>0</td><td>NA          </td><td>0 full defects</td><td>NA</td><td>May 31st, 2011     </td><td>Specialty Coffee Association      </td><td>117 W 4th St, Suite 300 Santa Ana, CA 92701                          </td><td>Chris Buck - (562) 624-4100                                        </td><td>NA</td><td>NA</td></tr>\n",
              "\t<tr><td>3</td><td>89.00</td><td>NA</td><td>NA</td><td>NA</td><td>NA</td><td>NA</td><td>Arabica</td><td>Yidnekachew Dabessa     </td><td>Ethiopia </td><td>⋯</td><td>0</td><td>Green       </td><td>2 full defects</td><td>NA</td><td>March 25th, 2016   </td><td>METAD Agricultural Development plc</td><td>BAWA Center, 3rd Floor (Gerji), Addis Ababa, Ethiopia                </td><td>Aman Adinew (Emebet Dinku) - +251-116-292534, +251-911-519196      </td><td>NA</td><td>NA</td></tr>\n",
              "\t<tr><td>4</td><td>88.83</td><td>NA</td><td>NA</td><td>NA</td><td>NA</td><td>NA</td><td>Arabica</td><td>metad plc               </td><td>Ethiopia </td><td>⋯</td><td>0</td><td>Green       </td><td>2 full defects</td><td>NA</td><td>April 3rd, 2016    </td><td>METAD Agricultural Development plc</td><td>BAWA Center, 3rd Floor (Gerji), Addis Ababa, Ethiopia                </td><td>Aman Adinew (Emebet Dinku) - +251-116-292534, +251-911-519196      </td><td>NA</td><td>NA</td></tr>\n",
              "\t<tr><td>5</td><td>88.83</td><td>NA</td><td>NA</td><td>NA</td><td>NA</td><td>NA</td><td>Arabica</td><td>Ji-Ae Ahn               </td><td>Brazil   </td><td>⋯</td><td>0</td><td>Bluish-Green</td><td>1 full defects</td><td>NA</td><td>September 3rd, 2014</td><td>Specialty Coffee Institute of Asia</td><td>3F, 259-1 Ulgiro-3-ga, Joong-gu, Seoul, South Korea, Zip code:100-847</td><td>Sung-Yong Steven Kil - 82-10-7912-1456-English, 82-2269-1456-Korean</td><td>NA</td><td>NA</td></tr>\n",
              "</tbody>\n",
              "</table>\n"
            ],
            "text/markdown": "\nA tibble: 6 × 53\n\n| ...1 &lt;dbl&gt; | quality_score &lt;dbl&gt; | view_certificate_1 &lt;lgl&gt; | view_certificate_2 &lt;lgl&gt; | Cupping Protocol and Descriptors &lt;lgl&gt; | View Green Analysis Details &lt;lgl&gt; | Request a Sample &lt;lgl&gt; | Species &lt;chr&gt; | Owner &lt;chr&gt; | Country of Origin &lt;chr&gt; | ⋯ ⋯ | Quakers &lt;dbl&gt; | Color &lt;chr&gt; | Category Two Defects &lt;chr&gt; | NA.3 &lt;lgl&gt; | Expiration &lt;chr&gt; | Certification Body &lt;chr&gt; | Certification Address &lt;chr&gt; | Certification Contact &lt;chr&gt; | ...52 &lt;lgl&gt; | Notes &lt;chr&gt; |\n|---|---|---|---|---|---|---|---|---|---|---|---|---|---|---|---|---|---|---|---|---|\n| 0 | 90.58 | NA | NA | NA | NA | NA | Arabica | metad plc                | Ethiopia  | ⋯ | 0 | Green        | 0 full defects | NA | April 3rd, 2016     | METAD Agricultural Development plc | BAWA Center, 3rd Floor (Gerji), Addis Ababa, Ethiopia                 | Aman Adinew (Emebet Dinku) - +251-116-292534, +251-911-519196       | NA | NA |\n| 1 | 89.92 | NA | NA | NA | NA | NA | Arabica | metad plc                | Ethiopia  | ⋯ | 0 | Green        | 1 full defects | NA | April 3rd, 2016     | METAD Agricultural Development plc | BAWA Center, 3rd Floor (Gerji), Addis Ababa, Ethiopia                 | Aman Adinew (Emebet Dinku) - +251-116-292534, +251-911-519196       | NA | NA |\n| 2 | 89.75 | NA | NA | NA | NA | NA | Arabica | Grounds for Health Admin | Guatemala | ⋯ | 0 | NA           | 0 full defects | NA | May 31st, 2011      | Specialty Coffee Association       | 117 W 4th St, Suite 300 Santa Ana, CA 92701                           | Chris Buck - (562) 624-4100                                         | NA | NA |\n| 3 | 89.00 | NA | NA | NA | NA | NA | Arabica | Yidnekachew Dabessa      | Ethiopia  | ⋯ | 0 | Green        | 2 full defects | NA | March 25th, 2016    | METAD Agricultural Development plc | BAWA Center, 3rd Floor (Gerji), Addis Ababa, Ethiopia                 | Aman Adinew (Emebet Dinku) - +251-116-292534, +251-911-519196       | NA | NA |\n| 4 | 88.83 | NA | NA | NA | NA | NA | Arabica | metad plc                | Ethiopia  | ⋯ | 0 | Green        | 2 full defects | NA | April 3rd, 2016     | METAD Agricultural Development plc | BAWA Center, 3rd Floor (Gerji), Addis Ababa, Ethiopia                 | Aman Adinew (Emebet Dinku) - +251-116-292534, +251-911-519196       | NA | NA |\n| 5 | 88.83 | NA | NA | NA | NA | NA | Arabica | Ji-Ae Ahn                | Brazil    | ⋯ | 0 | Bluish-Green | 1 full defects | NA | September 3rd, 2014 | Specialty Coffee Institute of Asia | 3F, 259-1 Ulgiro-3-ga, Joong-gu, Seoul, South Korea, Zip code:100-847 | Sung-Yong Steven Kil - 82-10-7912-1456-English, 82-2269-1456-Korean | NA | NA |\n\n",
            "text/latex": "A tibble: 6 × 53\n\\begin{tabular}{lllllllllllllllllllll}\n ...1 & quality\\_score & view\\_certificate\\_1 & view\\_certificate\\_2 & Cupping Protocol and Descriptors & View Green Analysis Details & Request a Sample & Species & Owner & Country of Origin & ⋯ & Quakers & Color & Category Two Defects & NA.3 & Expiration & Certification Body & Certification Address & Certification Contact & ...52 & Notes\\\\\n <dbl> & <dbl> & <lgl> & <lgl> & <lgl> & <lgl> & <lgl> & <chr> & <chr> & <chr> & ⋯ & <dbl> & <chr> & <chr> & <lgl> & <chr> & <chr> & <chr> & <chr> & <lgl> & <chr>\\\\\n\\hline\n\t 0 & 90.58 & NA & NA & NA & NA & NA & Arabica & metad plc                & Ethiopia  & ⋯ & 0 & Green        & 0 full defects & NA & April 3rd, 2016     & METAD Agricultural Development plc & BAWA Center, 3rd Floor (Gerji), Addis Ababa, Ethiopia                 & Aman Adinew (Emebet Dinku) - +251-116-292534, +251-911-519196       & NA & NA\\\\\n\t 1 & 89.92 & NA & NA & NA & NA & NA & Arabica & metad plc                & Ethiopia  & ⋯ & 0 & Green        & 1 full defects & NA & April 3rd, 2016     & METAD Agricultural Development plc & BAWA Center, 3rd Floor (Gerji), Addis Ababa, Ethiopia                 & Aman Adinew (Emebet Dinku) - +251-116-292534, +251-911-519196       & NA & NA\\\\\n\t 2 & 89.75 & NA & NA & NA & NA & NA & Arabica & Grounds for Health Admin & Guatemala & ⋯ & 0 & NA           & 0 full defects & NA & May 31st, 2011      & Specialty Coffee Association       & 117 W 4th St, Suite 300 Santa Ana, CA 92701                           & Chris Buck - (562) 624-4100                                         & NA & NA\\\\\n\t 3 & 89.00 & NA & NA & NA & NA & NA & Arabica & Yidnekachew Dabessa      & Ethiopia  & ⋯ & 0 & Green        & 2 full defects & NA & March 25th, 2016    & METAD Agricultural Development plc & BAWA Center, 3rd Floor (Gerji), Addis Ababa, Ethiopia                 & Aman Adinew (Emebet Dinku) - +251-116-292534, +251-911-519196       & NA & NA\\\\\n\t 4 & 88.83 & NA & NA & NA & NA & NA & Arabica & metad plc                & Ethiopia  & ⋯ & 0 & Green        & 2 full defects & NA & April 3rd, 2016     & METAD Agricultural Development plc & BAWA Center, 3rd Floor (Gerji), Addis Ababa, Ethiopia                 & Aman Adinew (Emebet Dinku) - +251-116-292534, +251-911-519196       & NA & NA\\\\\n\t 5 & 88.83 & NA & NA & NA & NA & NA & Arabica & Ji-Ae Ahn                & Brazil    & ⋯ & 0 & Bluish-Green & 1 full defects & NA & September 3rd, 2014 & Specialty Coffee Institute of Asia & 3F, 259-1 Ulgiro-3-ga, Joong-gu, Seoul, South Korea, Zip code:100-847 & Sung-Yong Steven Kil - 82-10-7912-1456-English, 82-2269-1456-Korean & NA & NA\\\\\n\\end{tabular}\n",
            "text/plain": [
              "  ...1 quality_score view_certificate_1 view_certificate_2\n",
              "1 0    90.58         NA                 NA                \n",
              "2 1    89.92         NA                 NA                \n",
              "3 2    89.75         NA                 NA                \n",
              "4 3    89.00         NA                 NA                \n",
              "5 4    88.83         NA                 NA                \n",
              "6 5    88.83         NA                 NA                \n",
              "  Cupping Protocol and Descriptors View Green Analysis Details Request a Sample\n",
              "1 NA                               NA                          NA              \n",
              "2 NA                               NA                          NA              \n",
              "3 NA                               NA                          NA              \n",
              "4 NA                               NA                          NA              \n",
              "5 NA                               NA                          NA              \n",
              "6 NA                               NA                          NA              \n",
              "  Species Owner                    Country of Origin ⋯ Quakers Color       \n",
              "1 Arabica metad plc                Ethiopia          ⋯ 0       Green       \n",
              "2 Arabica metad plc                Ethiopia          ⋯ 0       Green       \n",
              "3 Arabica Grounds for Health Admin Guatemala         ⋯ 0       NA          \n",
              "4 Arabica Yidnekachew Dabessa      Ethiopia          ⋯ 0       Green       \n",
              "5 Arabica metad plc                Ethiopia          ⋯ 0       Green       \n",
              "6 Arabica Ji-Ae Ahn                Brazil            ⋯ 0       Bluish-Green\n",
              "  Category Two Defects NA.3 Expiration         \n",
              "1 0 full defects       NA   April 3rd, 2016    \n",
              "2 1 full defects       NA   April 3rd, 2016    \n",
              "3 0 full defects       NA   May 31st, 2011     \n",
              "4 2 full defects       NA   March 25th, 2016   \n",
              "5 2 full defects       NA   April 3rd, 2016    \n",
              "6 1 full defects       NA   September 3rd, 2014\n",
              "  Certification Body                \n",
              "1 METAD Agricultural Development plc\n",
              "2 METAD Agricultural Development plc\n",
              "3 Specialty Coffee Association      \n",
              "4 METAD Agricultural Development plc\n",
              "5 METAD Agricultural Development plc\n",
              "6 Specialty Coffee Institute of Asia\n",
              "  Certification Address                                                \n",
              "1 BAWA Center, 3rd Floor (Gerji), Addis Ababa, Ethiopia                \n",
              "2 BAWA Center, 3rd Floor (Gerji), Addis Ababa, Ethiopia                \n",
              "3 117 W 4th St, Suite 300 Santa Ana, CA 92701                          \n",
              "4 BAWA Center, 3rd Floor (Gerji), Addis Ababa, Ethiopia                \n",
              "5 BAWA Center, 3rd Floor (Gerji), Addis Ababa, Ethiopia                \n",
              "6 3F, 259-1 Ulgiro-3-ga, Joong-gu, Seoul, South Korea, Zip code:100-847\n",
              "  Certification Contact                                               ...52\n",
              "1 Aman Adinew (Emebet Dinku) - +251-116-292534, +251-911-519196       NA   \n",
              "2 Aman Adinew (Emebet Dinku) - +251-116-292534, +251-911-519196       NA   \n",
              "3 Chris Buck - (562) 624-4100                                         NA   \n",
              "4 Aman Adinew (Emebet Dinku) - +251-116-292534, +251-911-519196       NA   \n",
              "5 Aman Adinew (Emebet Dinku) - +251-116-292534, +251-911-519196       NA   \n",
              "6 Sung-Yong Steven Kil - 82-10-7912-1456-English, 82-2269-1456-Korean NA   \n",
              "  Notes\n",
              "1 NA   \n",
              "2 NA   \n",
              "3 NA   \n",
              "4 NA   \n",
              "5 NA   \n",
              "6 NA   "
            ]
          },
          "metadata": {}
        }
      ]
    },
    {
      "cell_type": "code",
      "source": [
        "# Trasnformación de las cadenas de caracteres en variables categóricas (factores)\n",
        "library(dplyr)\n",
        "dataset <- dataset %>%\n",
        "  mutate_if(is.character,factor)"
      ],
      "metadata": {
        "id": "Q_RPgXAUUed7"
      },
      "execution_count": null,
      "outputs": []
    },
    {
      "cell_type": "code",
      "source": [
        "class(dataset)"
      ],
      "metadata": {
        "colab": {
          "base_uri": "https://localhost:8080/",
          "height": 34
        },
        "id": "KcVRU19sUhb7",
        "outputId": "4ef6b671-18f1-4054-a97b-e221068f2b2c"
      },
      "execution_count": null,
      "outputs": [
        {
          "output_type": "display_data",
          "data": {
            "text/html": [
              "<style>\n",
              ".list-inline {list-style: none; margin:0; padding: 0}\n",
              ".list-inline>li {display: inline-block}\n",
              ".list-inline>li:not(:last-child)::after {content: \"\\00b7\"; padding: 0 .5ex}\n",
              "</style>\n",
              "<ol class=list-inline><li>'tbl_df'</li><li>'tbl'</li><li>'data.frame'</li></ol>\n"
            ],
            "text/markdown": "1. 'tbl_df'\n2. 'tbl'\n3. 'data.frame'\n\n\n",
            "text/latex": "\\begin{enumerate*}\n\\item 'tbl\\_df'\n\\item 'tbl'\n\\item 'data.frame'\n\\end{enumerate*}\n",
            "text/plain": [
              "[1] \"tbl_df\"     \"tbl\"        \"data.frame\""
            ]
          },
          "metadata": {}
        }
      ]
    },
    {
      "cell_type": "code",
      "source": [
        "# Extracción del data frame\n",
        "dataset <-  data.frame(dataset)"
      ],
      "metadata": {
        "id": "sxJ_zX4wUjDj"
      },
      "execution_count": null,
      "outputs": []
    },
    {
      "cell_type": "code",
      "source": [
        "# Selección de algunas variables para el análisis (es selección de cada uno):\n",
        "dataset_sel <- dataset[,c('Country.of.Origin','quality_score','Number.of.Bags','Aroma','Harvest.Year')]\n",
        "head(dataset_sel)"
      ],
      "metadata": {
        "colab": {
          "base_uri": "https://localhost:8080/",
          "height": 286
        },
        "id": "SAqz9leUUkyz",
        "outputId": "5164727c-896c-4563-8c21-e13584d4c569"
      },
      "execution_count": null,
      "outputs": [
        {
          "output_type": "display_data",
          "data": {
            "text/html": [
              "<table class=\"dataframe\">\n",
              "<caption>A data.frame: 6 × 5</caption>\n",
              "<thead>\n",
              "\t<tr><th></th><th scope=col>Country.of.Origin</th><th scope=col>quality_score</th><th scope=col>Number.of.Bags</th><th scope=col>Aroma</th><th scope=col>Harvest.Year</th></tr>\n",
              "\t<tr><th></th><th scope=col>&lt;fct&gt;</th><th scope=col>&lt;dbl&gt;</th><th scope=col>&lt;dbl&gt;</th><th scope=col>&lt;dbl&gt;</th><th scope=col>&lt;fct&gt;</th></tr>\n",
              "</thead>\n",
              "<tbody>\n",
              "\t<tr><th scope=row>1</th><td>Ethiopia </td><td>90.58</td><td>300</td><td>8.67</td><td>2014</td></tr>\n",
              "\t<tr><th scope=row>2</th><td>Ethiopia </td><td>89.92</td><td>300</td><td>8.75</td><td>2014</td></tr>\n",
              "\t<tr><th scope=row>3</th><td>Guatemala</td><td>89.75</td><td>  5</td><td>8.42</td><td>NA  </td></tr>\n",
              "\t<tr><th scope=row>4</th><td>Ethiopia </td><td>89.00</td><td>320</td><td>8.17</td><td>2014</td></tr>\n",
              "\t<tr><th scope=row>5</th><td>Ethiopia </td><td>88.83</td><td>300</td><td>8.25</td><td>2014</td></tr>\n",
              "\t<tr><th scope=row>6</th><td>Brazil   </td><td>88.83</td><td>100</td><td>8.58</td><td>2013</td></tr>\n",
              "</tbody>\n",
              "</table>\n"
            ],
            "text/markdown": "\nA data.frame: 6 × 5\n\n| <!--/--> | Country.of.Origin &lt;fct&gt; | quality_score &lt;dbl&gt; | Number.of.Bags &lt;dbl&gt; | Aroma &lt;dbl&gt; | Harvest.Year &lt;fct&gt; |\n|---|---|---|---|---|---|\n| 1 | Ethiopia  | 90.58 | 300 | 8.67 | 2014 |\n| 2 | Ethiopia  | 89.92 | 300 | 8.75 | 2014 |\n| 3 | Guatemala | 89.75 |   5 | 8.42 | NA   |\n| 4 | Ethiopia  | 89.00 | 320 | 8.17 | 2014 |\n| 5 | Ethiopia  | 88.83 | 300 | 8.25 | 2014 |\n| 6 | Brazil    | 88.83 | 100 | 8.58 | 2013 |\n\n",
            "text/latex": "A data.frame: 6 × 5\n\\begin{tabular}{r|lllll}\n  & Country.of.Origin & quality\\_score & Number.of.Bags & Aroma & Harvest.Year\\\\\n  & <fct> & <dbl> & <dbl> & <dbl> & <fct>\\\\\n\\hline\n\t1 & Ethiopia  & 90.58 & 300 & 8.67 & 2014\\\\\n\t2 & Ethiopia  & 89.92 & 300 & 8.75 & 2014\\\\\n\t3 & Guatemala & 89.75 &   5 & 8.42 & NA  \\\\\n\t4 & Ethiopia  & 89.00 & 320 & 8.17 & 2014\\\\\n\t5 & Ethiopia  & 88.83 & 300 & 8.25 & 2014\\\\\n\t6 & Brazil    & 88.83 & 100 & 8.58 & 2013\\\\\n\\end{tabular}\n",
            "text/plain": [
              "  Country.of.Origin quality_score Number.of.Bags Aroma Harvest.Year\n",
              "1 Ethiopia          90.58         300            8.67  2014        \n",
              "2 Ethiopia          89.92         300            8.75  2014        \n",
              "3 Guatemala         89.75           5            8.42  NA          \n",
              "4 Ethiopia          89.00         320            8.17  2014        \n",
              "5 Ethiopia          88.83         300            8.25  2014        \n",
              "6 Brazil            88.83         100            8.58  2013        "
            ]
          },
          "metadata": {}
        }
      ]
    },
    {
      "cell_type": "code",
      "source": [
        "# Esta es una función muy útil para crear gráficas múltiples\n",
        "multiplot <- function(..., plotlist=NULL, file, cols=1, layout=NULL) {\n",
        "  library(grid)\n",
        "  plots <- c(list(...), plotlist)\n",
        "  numPlots = length(plots)\n",
        "  if (is.null(layout)) {\n",
        "    layout <- matrix(seq(1, cols * ceiling(numPlots/cols)),\n",
        "                     ncol = cols, nrow = ceiling(numPlots/cols))\n",
        "  }\n",
        "  if (numPlots==1) {\n",
        "    print(plots[[1]])\n",
        "  } else {\n",
        "    grid.newpage()\n",
        "    pushViewport(viewport(layout = grid.layout(nrow(layout), ncol(layout))))\n",
        "    for (i in 1:numPlots) {\n",
        "      matchidx <- as.data.frame(which(layout == i, arr.ind = TRUE))\n",
        "      \n",
        "      print(plots[[i]], vp = viewport(layout.pos.row = matchidx$row,\n",
        "                                      layout.pos.col = matchidx$col))\n",
        "    }\n",
        "  }\n",
        "}"
      ],
      "metadata": {
        "id": "u3I_85IBVBe7"
      },
      "execution_count": null,
      "outputs": []
    },
    {
      "cell_type": "code",
      "source": [
        "dataset_sel1 <- dataset[,c('Country.of.Origin','Harvest.Year','quality_score')]\n",
        "head(dataset_sel1)"
      ],
      "metadata": {
        "colab": {
          "base_uri": "https://localhost:8080/",
          "height": 286
        },
        "id": "ro1qo_e381SX",
        "outputId": "767fc55e-8315-418c-a8c1-6404301e6ad8"
      },
      "execution_count": null,
      "outputs": [
        {
          "output_type": "display_data",
          "data": {
            "text/html": [
              "<table class=\"dataframe\">\n",
              "<caption>A data.frame: 6 × 3</caption>\n",
              "<thead>\n",
              "\t<tr><th></th><th scope=col>Country.of.Origin</th><th scope=col>Harvest.Year</th><th scope=col>quality_score</th></tr>\n",
              "\t<tr><th></th><th scope=col>&lt;fct&gt;</th><th scope=col>&lt;fct&gt;</th><th scope=col>&lt;dbl&gt;</th></tr>\n",
              "</thead>\n",
              "<tbody>\n",
              "\t<tr><th scope=row>1</th><td>Ethiopia </td><td>2014</td><td>90.58</td></tr>\n",
              "\t<tr><th scope=row>2</th><td>Ethiopia </td><td>2014</td><td>89.92</td></tr>\n",
              "\t<tr><th scope=row>3</th><td>Guatemala</td><td>NA  </td><td>89.75</td></tr>\n",
              "\t<tr><th scope=row>4</th><td>Ethiopia </td><td>2014</td><td>89.00</td></tr>\n",
              "\t<tr><th scope=row>5</th><td>Ethiopia </td><td>2014</td><td>88.83</td></tr>\n",
              "\t<tr><th scope=row>6</th><td>Brazil   </td><td>2013</td><td>88.83</td></tr>\n",
              "</tbody>\n",
              "</table>\n"
            ],
            "text/markdown": "\nA data.frame: 6 × 3\n\n| <!--/--> | Country.of.Origin &lt;fct&gt; | Harvest.Year &lt;fct&gt; | quality_score &lt;dbl&gt; |\n|---|---|---|---|\n| 1 | Ethiopia  | 2014 | 90.58 |\n| 2 | Ethiopia  | 2014 | 89.92 |\n| 3 | Guatemala | NA   | 89.75 |\n| 4 | Ethiopia  | 2014 | 89.00 |\n| 5 | Ethiopia  | 2014 | 88.83 |\n| 6 | Brazil    | 2013 | 88.83 |\n\n",
            "text/latex": "A data.frame: 6 × 3\n\\begin{tabular}{r|lll}\n  & Country.of.Origin & Harvest.Year & quality\\_score\\\\\n  & <fct> & <fct> & <dbl>\\\\\n\\hline\n\t1 & Ethiopia  & 2014 & 90.58\\\\\n\t2 & Ethiopia  & 2014 & 89.92\\\\\n\t3 & Guatemala & NA   & 89.75\\\\\n\t4 & Ethiopia  & 2014 & 89.00\\\\\n\t5 & Ethiopia  & 2014 & 88.83\\\\\n\t6 & Brazil    & 2013 & 88.83\\\\\n\\end{tabular}\n",
            "text/plain": [
              "  Country.of.Origin Harvest.Year quality_score\n",
              "1 Ethiopia          2014         90.58        \n",
              "2 Ethiopia          2014         89.92        \n",
              "3 Guatemala         NA           89.75        \n",
              "4 Ethiopia          2014         89.00        \n",
              "5 Ethiopia          2014         88.83        \n",
              "6 Brazil            2013         88.83        "
            ]
          },
          "metadata": {}
        }
      ]
    },
    {
      "cell_type": "code",
      "source": [
        "dataset1 = filter(dataset_sel1, Harvest.Year %in% c(\"2010\",\"2011\",\"2012\",\"2013\",\"2014\",\"2015\",\"2016\",\"2017\"),\n",
        "            !is.na(dataset_sel1$Harvest.Year), quality_score>50)\n",
        "head(dataset1)"
      ],
      "metadata": {
        "colab": {
          "base_uri": "https://localhost:8080/",
          "height": 286
        },
        "id": "niw7fjoS9Jwp",
        "outputId": "f3672570-91c7-468e-8628-718afd3ed4c3"
      },
      "execution_count": null,
      "outputs": [
        {
          "output_type": "display_data",
          "data": {
            "text/html": [
              "<table class=\"dataframe\">\n",
              "<caption>A data.frame: 6 × 3</caption>\n",
              "<thead>\n",
              "\t<tr><th></th><th scope=col>Country.of.Origin</th><th scope=col>Harvest.Year</th><th scope=col>quality_score</th></tr>\n",
              "\t<tr><th></th><th scope=col>&lt;fct&gt;</th><th scope=col>&lt;fct&gt;</th><th scope=col>&lt;dbl&gt;</th></tr>\n",
              "</thead>\n",
              "<tbody>\n",
              "\t<tr><th scope=row>1</th><td>Ethiopia</td><td>2014</td><td>90.58</td></tr>\n",
              "\t<tr><th scope=row>2</th><td>Ethiopia</td><td>2014</td><td>89.92</td></tr>\n",
              "\t<tr><th scope=row>3</th><td>Ethiopia</td><td>2014</td><td>89.00</td></tr>\n",
              "\t<tr><th scope=row>4</th><td>Ethiopia</td><td>2014</td><td>88.83</td></tr>\n",
              "\t<tr><th scope=row>5</th><td>Brazil  </td><td>2013</td><td>88.83</td></tr>\n",
              "\t<tr><th scope=row>6</th><td>Peru    </td><td>2012</td><td>88.75</td></tr>\n",
              "</tbody>\n",
              "</table>\n"
            ],
            "text/markdown": "\nA data.frame: 6 × 3\n\n| <!--/--> | Country.of.Origin &lt;fct&gt; | Harvest.Year &lt;fct&gt; | quality_score &lt;dbl&gt; |\n|---|---|---|---|\n| 1 | Ethiopia | 2014 | 90.58 |\n| 2 | Ethiopia | 2014 | 89.92 |\n| 3 | Ethiopia | 2014 | 89.00 |\n| 4 | Ethiopia | 2014 | 88.83 |\n| 5 | Brazil   | 2013 | 88.83 |\n| 6 | Peru     | 2012 | 88.75 |\n\n",
            "text/latex": "A data.frame: 6 × 3\n\\begin{tabular}{r|lll}\n  & Country.of.Origin & Harvest.Year & quality\\_score\\\\\n  & <fct> & <fct> & <dbl>\\\\\n\\hline\n\t1 & Ethiopia & 2014 & 90.58\\\\\n\t2 & Ethiopia & 2014 & 89.92\\\\\n\t3 & Ethiopia & 2014 & 89.00\\\\\n\t4 & Ethiopia & 2014 & 88.83\\\\\n\t5 & Brazil   & 2013 & 88.83\\\\\n\t6 & Peru     & 2012 & 88.75\\\\\n\\end{tabular}\n",
            "text/plain": [
              "  Country.of.Origin Harvest.Year quality_score\n",
              "1 Ethiopia          2014         90.58        \n",
              "2 Ethiopia          2014         89.92        \n",
              "3 Ethiopia          2014         89.00        \n",
              "4 Ethiopia          2014         88.83        \n",
              "5 Brazil            2013         88.83        \n",
              "6 Peru              2012         88.75        "
            ]
          },
          "metadata": {}
        }
      ]
    },
    {
      "cell_type": "code",
      "source": [
        "#Grafica de cajas\n",
        "#Harvest Year VS Quality Score\n",
        "options(repr.plot.width = 18, repr.plot.height = 15)\n",
        "multiplot(\n",
        "  ggplot(dataset1, aes(x = Harvest.Year, y = quality_score, col = Harvest.Year)) +\n",
        "    geom_boxplot() + theme(legend.position = 'none') +\n",
        "    coord_flip(),\n",
        "  ggplot(dataset1, aes(x = quality_score)) + \n",
        "    geom_histogram(aes(y = ..density.., col = Harvest.Year), bins = 50,\n",
        "                   fill = 'white') + theme(legend.position = 'none') +\n",
        "    facet_wrap(~Harvest.Year),\n",
        "  layout = matrix(c(1,2,2), ncol = 1))"
      ],
      "metadata": {
        "colab": {
          "base_uri": "https://localhost:8080/",
          "height": 917
        },
        "id": "i2d7KpMufH3a",
        "outputId": "dffc7b84-a564-425d-8b14-da6b5c8b215e"
      },
      "execution_count": null,
      "outputs": [
        {
          "output_type": "display_data",
          "data": {
            "text/plain": [
              "plot without title"
            ],
            "image/png": "[encoded data removed]"
          },
          "metadata": {
            "image/png": {
              "width": 1080,
              "height": 900
            }
          }
        }
      ]
    },
    {
      "cell_type": "code",
      "source": [
        "aggregate(quality_score~Harvest.Year, data = dataset1, FUN=mean)"
      ],
      "metadata": {
        "colab": {
          "base_uri": "https://localhost:8080/",
          "height": 349
        },
        "id": "pXFpFuVgcvIV",
        "outputId": "8809fe01-1282-435d-bb9f-fc7d94f89c00"
      },
      "execution_count": null,
      "outputs": [
        {
          "output_type": "display_data",
          "data": {
            "text/html": [
              "<table class=\"dataframe\">\n",
              "<caption>A data.frame: 8 × 2</caption>\n",
              "<thead>\n",
              "\t<tr><th scope=col>Harvest.Year</th><th scope=col>quality_score</th></tr>\n",
              "\t<tr><th scope=col>&lt;fct&gt;</th><th scope=col>&lt;dbl&gt;</th></tr>\n",
              "</thead>\n",
              "<tbody>\n",
              "\t<tr><td>2010</td><td>82.66600</td></tr>\n",
              "\t<tr><td>2011</td><td>83.33000</td></tr>\n",
              "\t<tr><td>2012</td><td>81.51864</td></tr>\n",
              "\t<tr><td>2013</td><td>82.17029</td></tr>\n",
              "\t<tr><td>2014</td><td>82.18115</td></tr>\n",
              "\t<tr><td>2015</td><td>82.75824</td></tr>\n",
              "\t<tr><td>2016</td><td>82.41664</td></tr>\n",
              "\t<tr><td>2017</td><td>82.23776</td></tr>\n",
              "</tbody>\n",
              "</table>\n"
            ],
            "text/markdown": "\nA data.frame: 8 × 2\n\n| Harvest.Year &lt;fct&gt; | quality_score &lt;dbl&gt; |\n|---|---|\n| 2010 | 82.66600 |\n| 2011 | 83.33000 |\n| 2012 | 81.51864 |\n| 2013 | 82.17029 |\n| 2014 | 82.18115 |\n| 2015 | 82.75824 |\n| 2016 | 82.41664 |\n| 2017 | 82.23776 |\n\n",
            "text/latex": "A data.frame: 8 × 2\n\\begin{tabular}{ll}\n Harvest.Year & quality\\_score\\\\\n <fct> & <dbl>\\\\\n\\hline\n\t 2010 & 82.66600\\\\\n\t 2011 & 83.33000\\\\\n\t 2012 & 81.51864\\\\\n\t 2013 & 82.17029\\\\\n\t 2014 & 82.18115\\\\\n\t 2015 & 82.75824\\\\\n\t 2016 & 82.41664\\\\\n\t 2017 & 82.23776\\\\\n\\end{tabular}\n",
            "text/plain": [
              "  Harvest.Year quality_score\n",
              "1 2010         82.66600     \n",
              "2 2011         83.33000     \n",
              "3 2012         81.51864     \n",
              "4 2013         82.17029     \n",
              "5 2014         82.18115     \n",
              "6 2015         82.75824     \n",
              "7 2016         82.41664     \n",
              "8 2017         82.23776     "
            ]
          },
          "metadata": {}
        }
      ]
    },
    {
      "cell_type": "code",
      "source": [
        "#PAISES LATINOAMERICANOS\n",
        "dataset2 = filter(dataset_sel1, Harvest.Year %in% c(\"2010\",\"2011\",\"2012\",\"2013\",\"2014\",\"2015\",\"2016\",\"2017\"),\n",
        "            !is.na(dataset_sel1$Harvest.Year), \n",
        "            Country.of.Origin %in% c(\"Colombia\",\"El Salvador\",\"Costa Rica\",\"Mexico\",\"Brazil\",\"Guatemala\",\"Peru\",\"Venezuela\"), quality_score>50)\n",
        "head(dataset2,100)"
      ],
      "metadata": {
        "colab": {
          "base_uri": "https://localhost:8080/",
          "height": 1000
        },
        "id": "1WkR2RwZfAS8",
        "outputId": "79d7b304-2b27-4022-b80d-ae430516bd36"
      },
      "execution_count": null,
      "outputs": [
        {
          "output_type": "display_data",
          "data": {
            "text/html": [
              "<table class=\"dataframe\">\n",
              "<caption>A data.frame: 100 × 3</caption>\n",
              "<thead>\n",
              "\t<tr><th></th><th scope=col>Country.of.Origin</th><th scope=col>Harvest.Year</th><th scope=col>quality_score</th></tr>\n",
              "\t<tr><th></th><th scope=col>&lt;fct&gt;</th><th scope=col>&lt;fct&gt;</th><th scope=col>&lt;dbl&gt;</th></tr>\n",
              "</thead>\n",
              "<tbody>\n",
              "\t<tr><th scope=row>1</th><td>Brazil     </td><td>2013</td><td>88.83</td></tr>\n",
              "\t<tr><th scope=row>2</th><td>Peru       </td><td>2012</td><td>88.75</td></tr>\n",
              "\t<tr><th scope=row>3</th><td>Costa Rica </td><td>2014</td><td>87.17</td></tr>\n",
              "\t<tr><th scope=row>4</th><td>Mexico     </td><td>2012</td><td>87.17</td></tr>\n",
              "\t<tr><th scope=row>5</th><td>Brazil     </td><td>2011</td><td>86.92</td></tr>\n",
              "\t<tr><th scope=row>6</th><td>Brazil     </td><td>2011</td><td>86.42</td></tr>\n",
              "\t<tr><th scope=row>7</th><td>Brazil     </td><td>2010</td><td>86.17</td></tr>\n",
              "\t<tr><th scope=row>8</th><td>Brazil     </td><td>2010</td><td>86.17</td></tr>\n",
              "\t<tr><th scope=row>9</th><td>Brazil     </td><td>2011</td><td>86.08</td></tr>\n",
              "\t<tr><th scope=row>10</th><td>Colombia   </td><td>2013</td><td>86.00</td></tr>\n",
              "\t<tr><th scope=row>11</th><td>Guatemala  </td><td>2016</td><td>85.92</td></tr>\n",
              "\t<tr><th scope=row>12</th><td>Colombia   </td><td>2013</td><td>85.92</td></tr>\n",
              "\t<tr><th scope=row>13</th><td>Guatemala  </td><td>2012</td><td>85.83</td></tr>\n",
              "\t<tr><th scope=row>14</th><td>Guatemala  </td><td>2012</td><td>85.83</td></tr>\n",
              "\t<tr><th scope=row>15</th><td>Peru       </td><td>2013</td><td>85.75</td></tr>\n",
              "\t<tr><th scope=row>16</th><td>El Salvador</td><td>2013</td><td>85.58</td></tr>\n",
              "\t<tr><th scope=row>17</th><td>El Salvador</td><td>2012</td><td>85.58</td></tr>\n",
              "\t<tr><th scope=row>18</th><td>Guatemala  </td><td>2013</td><td>85.50</td></tr>\n",
              "\t<tr><th scope=row>19</th><td>Brazil     </td><td>2011</td><td>85.42</td></tr>\n",
              "\t<tr><th scope=row>20</th><td>Guatemala  </td><td>2014</td><td>85.33</td></tr>\n",
              "\t<tr><th scope=row>21</th><td>Costa Rica </td><td>2014</td><td>85.33</td></tr>\n",
              "\t<tr><th scope=row>22</th><td>Costa Rica </td><td>2014</td><td>85.33</td></tr>\n",
              "\t<tr><th scope=row>23</th><td>Guatemala  </td><td>2016</td><td>85.25</td></tr>\n",
              "\t<tr><th scope=row>24</th><td>Colombia   </td><td>2015</td><td>85.25</td></tr>\n",
              "\t<tr><th scope=row>25</th><td>Colombia   </td><td>2014</td><td>85.25</td></tr>\n",
              "\t<tr><th scope=row>26</th><td>Guatemala  </td><td>2012</td><td>85.17</td></tr>\n",
              "\t<tr><th scope=row>27</th><td>Colombia   </td><td>2015</td><td>85.08</td></tr>\n",
              "\t<tr><th scope=row>28</th><td>Colombia   </td><td>2012</td><td>85.08</td></tr>\n",
              "\t<tr><th scope=row>29</th><td>Colombia   </td><td>2016</td><td>85.00</td></tr>\n",
              "\t<tr><th scope=row>30</th><td>Costa Rica </td><td>2016</td><td>85.00</td></tr>\n",
              "\t<tr><th scope=row>⋮</th><td>⋮</td><td>⋮</td><td>⋮</td></tr>\n",
              "\t<tr><th scope=row>71</th><td>Colombia   </td><td>2015</td><td>84.33</td></tr>\n",
              "\t<tr><th scope=row>72</th><td>Colombia   </td><td>2013</td><td>84.33</td></tr>\n",
              "\t<tr><th scope=row>73</th><td>Mexico     </td><td>2012</td><td>84.33</td></tr>\n",
              "\t<tr><th scope=row>74</th><td>Brazil     </td><td>2011</td><td>84.33</td></tr>\n",
              "\t<tr><th scope=row>75</th><td>Brazil     </td><td>2011</td><td>84.33</td></tr>\n",
              "\t<tr><th scope=row>76</th><td>Colombia   </td><td>2016</td><td>84.25</td></tr>\n",
              "\t<tr><th scope=row>77</th><td>Guatemala  </td><td>2016</td><td>84.25</td></tr>\n",
              "\t<tr><th scope=row>78</th><td>Guatemala  </td><td>2015</td><td>84.25</td></tr>\n",
              "\t<tr><th scope=row>79</th><td>Colombia   </td><td>2015</td><td>84.25</td></tr>\n",
              "\t<tr><th scope=row>80</th><td>Colombia   </td><td>2015</td><td>84.25</td></tr>\n",
              "\t<tr><th scope=row>81</th><td>Colombia   </td><td>2015</td><td>84.25</td></tr>\n",
              "\t<tr><th scope=row>82</th><td>Guatemala  </td><td>2014</td><td>84.25</td></tr>\n",
              "\t<tr><th scope=row>83</th><td>Colombia   </td><td>2013</td><td>84.25</td></tr>\n",
              "\t<tr><th scope=row>84</th><td>Mexico     </td><td>2012</td><td>84.25</td></tr>\n",
              "\t<tr><th scope=row>85</th><td>Mexico     </td><td>2012</td><td>84.25</td></tr>\n",
              "\t<tr><th scope=row>86</th><td>Mexico     </td><td>2012</td><td>84.25</td></tr>\n",
              "\t<tr><th scope=row>87</th><td>Guatemala  </td><td>2017</td><td>84.17</td></tr>\n",
              "\t<tr><th scope=row>88</th><td>Colombia   </td><td>2016</td><td>84.17</td></tr>\n",
              "\t<tr><th scope=row>89</th><td>Costa Rica </td><td>2016</td><td>84.17</td></tr>\n",
              "\t<tr><th scope=row>90</th><td>Guatemala  </td><td>2016</td><td>84.17</td></tr>\n",
              "\t<tr><th scope=row>91</th><td>Guatemala  </td><td>2016</td><td>84.17</td></tr>\n",
              "\t<tr><th scope=row>92</th><td>Guatemala  </td><td>2016</td><td>84.17</td></tr>\n",
              "\t<tr><th scope=row>93</th><td>Colombia   </td><td>2015</td><td>84.17</td></tr>\n",
              "\t<tr><th scope=row>94</th><td>Brazil     </td><td>2015</td><td>84.17</td></tr>\n",
              "\t<tr><th scope=row>95</th><td>Costa Rica </td><td>2014</td><td>84.17</td></tr>\n",
              "\t<tr><th scope=row>96</th><td>Guatemala  </td><td>2013</td><td>84.17</td></tr>\n",
              "\t<tr><th scope=row>97</th><td>Brazil     </td><td>2012</td><td>84.17</td></tr>\n",
              "\t<tr><th scope=row>98</th><td>Guatemala  </td><td>2013</td><td>84.17</td></tr>\n",
              "\t<tr><th scope=row>99</th><td>El Salvador</td><td>2013</td><td>84.17</td></tr>\n",
              "\t<tr><th scope=row>100</th><td>Colombia   </td><td>2012</td><td>84.17</td></tr>\n",
              "</tbody>\n",
              "</table>\n"
            ],
            "text/markdown": "\nA data.frame: 100 × 3\n\n| <!--/--> | Country.of.Origin &lt;fct&gt; | Harvest.Year &lt;fct&gt; | quality_score &lt;dbl&gt; |\n|---|---|---|---|\n| 1 | Brazil      | 2013 | 88.83 |\n| 2 | Peru        | 2012 | 88.75 |\n| 3 | Costa Rica  | 2014 | 87.17 |\n| 4 | Mexico      | 2012 | 87.17 |\n| 5 | Brazil      | 2011 | 86.92 |\n| 6 | Brazil      | 2011 | 86.42 |\n| 7 | Brazil      | 2010 | 86.17 |\n| 8 | Brazil      | 2010 | 86.17 |\n| 9 | Brazil      | 2011 | 86.08 |\n| 10 | Colombia    | 2013 | 86.00 |\n| 11 | Guatemala   | 2016 | 85.92 |\n| 12 | Colombia    | 2013 | 85.92 |\n| 13 | Guatemala   | 2012 | 85.83 |\n| 14 | Guatemala   | 2012 | 85.83 |\n| 15 | Peru        | 2013 | 85.75 |\n| 16 | El Salvador | 2013 | 85.58 |\n| 17 | El Salvador | 2012 | 85.58 |\n| 18 | Guatemala   | 2013 | 85.50 |\n| 19 | Brazil      | 2011 | 85.42 |\n| 20 | Guatemala   | 2014 | 85.33 |\n| 21 | Costa Rica  | 2014 | 85.33 |\n| 22 | Costa Rica  | 2014 | 85.33 |\n| 23 | Guatemala   | 2016 | 85.25 |\n| 24 | Colombia    | 2015 | 85.25 |\n| 25 | Colombia    | 2014 | 85.25 |\n| 26 | Guatemala   | 2012 | 85.17 |\n| 27 | Colombia    | 2015 | 85.08 |\n| 28 | Colombia    | 2012 | 85.08 |\n| 29 | Colombia    | 2016 | 85.00 |\n| 30 | Costa Rica  | 2016 | 85.00 |\n| ⋮ | ⋮ | ⋮ | ⋮ |\n| 71 | Colombia    | 2015 | 84.33 |\n| 72 | Colombia    | 2013 | 84.33 |\n| 73 | Mexico      | 2012 | 84.33 |\n| 74 | Brazil      | 2011 | 84.33 |\n| 75 | Brazil      | 2011 | 84.33 |\n| 76 | Colombia    | 2016 | 84.25 |\n| 77 | Guatemala   | 2016 | 84.25 |\n| 78 | Guatemala   | 2015 | 84.25 |\n| 79 | Colombia    | 2015 | 84.25 |\n| 80 | Colombia    | 2015 | 84.25 |\n| 81 | Colombia    | 2015 | 84.25 |\n| 82 | Guatemala   | 2014 | 84.25 |\n| 83 | Colombia    | 2013 | 84.25 |\n| 84 | Mexico      | 2012 | 84.25 |\n| 85 | Mexico      | 2012 | 84.25 |\n| 86 | Mexico      | 2012 | 84.25 |\n| 87 | Guatemala   | 2017 | 84.17 |\n| 88 | Colombia    | 2016 | 84.17 |\n| 89 | Costa Rica  | 2016 | 84.17 |\n| 90 | Guatemala   | 2016 | 84.17 |\n| 91 | Guatemala   | 2016 | 84.17 |\n| 92 | Guatemala   | 2016 | 84.17 |\n| 93 | Colombia    | 2015 | 84.17 |\n| 94 | Brazil      | 2015 | 84.17 |\n| 95 | Costa Rica  | 2014 | 84.17 |\n| 96 | Guatemala   | 2013 | 84.17 |\n| 97 | Brazil      | 2012 | 84.17 |\n| 98 | Guatemala   | 2013 | 84.17 |\n| 99 | El Salvador | 2013 | 84.17 |\n| 100 | Colombia    | 2012 | 84.17 |\n\n",
            "text/latex": "A data.frame: 100 × 3\n\\begin{tabular}{r|lll}\n  & Country.of.Origin & Harvest.Year & quality\\_score\\\\\n  & <fct> & <fct> & <dbl>\\\\\n\\hline\n\t1 & Brazil      & 2013 & 88.83\\\\\n\t2 & Peru        & 2012 & 88.75\\\\\n\t3 & Costa Rica  & 2014 & 87.17\\\\\n\t4 & Mexico      & 2012 & 87.17\\\\\n\t5 & Brazil      & 2011 & 86.92\\\\\n\t6 & Brazil      & 2011 & 86.42\\\\\n\t7 & Brazil      & 2010 & 86.17\\\\\n\t8 & Brazil      & 2010 & 86.17\\\\\n\t9 & Brazil      & 2011 & 86.08\\\\\n\t10 & Colombia    & 2013 & 86.00\\\\\n\t11 & Guatemala   & 2016 & 85.92\\\\\n\t12 & Colombia    & 2013 & 85.92\\\\\n\t13 & Guatemala   & 2012 & 85.83\\\\\n\t14 & Guatemala   & 2012 & 85.83\\\\\n\t15 & Peru        & 2013 & 85.75\\\\\n\t16 & El Salvador & 2013 & 85.58\\\\\n\t17 & El Salvador & 2012 & 85.58\\\\\n\t18 & Guatemala   & 2013 & 85.50\\\\\n\t19 & Brazil      & 2011 & 85.42\\\\\n\t20 & Guatemala   & 2014 & 85.33\\\\\n\t21 & Costa Rica  & 2014 & 85.33\\\\\n\t22 & Costa Rica  & 2014 & 85.33\\\\\n\t23 & Guatemala   & 2016 & 85.25\\\\\n\t24 & Colombia    & 2015 & 85.25\\\\\n\t25 & Colombia    & 2014 & 85.25\\\\\n\t26 & Guatemala   & 2012 & 85.17\\\\\n\t27 & Colombia    & 2015 & 85.08\\\\\n\t28 & Colombia    & 2012 & 85.08\\\\\n\t29 & Colombia    & 2016 & 85.00\\\\\n\t30 & Costa Rica  & 2016 & 85.00\\\\\n\t⋮ & ⋮ & ⋮ & ⋮\\\\\n\t71 & Colombia    & 2015 & 84.33\\\\\n\t72 & Colombia    & 2013 & 84.33\\\\\n\t73 & Mexico      & 2012 & 84.33\\\\\n\t74 & Brazil      & 2011 & 84.33\\\\\n\t75 & Brazil      & 2011 & 84.33\\\\\n\t76 & Colombia    & 2016 & 84.25\\\\\n\t77 & Guatemala   & 2016 & 84.25\\\\\n\t78 & Guatemala   & 2015 & 84.25\\\\\n\t79 & Colombia    & 2015 & 84.25\\\\\n\t80 & Colombia    & 2015 & 84.25\\\\\n\t81 & Colombia    & 2015 & 84.25\\\\\n\t82 & Guatemala   & 2014 & 84.25\\\\\n\t83 & Colombia    & 2013 & 84.25\\\\\n\t84 & Mexico      & 2012 & 84.25\\\\\n\t85 & Mexico      & 2012 & 84.25\\\\\n\t86 & Mexico      & 2012 & 84.25\\\\\n\t87 & Guatemala   & 2017 & 84.17\\\\\n\t88 & Colombia    & 2016 & 84.17\\\\\n\t89 & Costa Rica  & 2016 & 84.17\\\\\n\t90 & Guatemala   & 2016 & 84.17\\\\\n\t91 & Guatemala   & 2016 & 84.17\\\\\n\t92 & Guatemala   & 2016 & 84.17\\\\\n\t93 & Colombia    & 2015 & 84.17\\\\\n\t94 & Brazil      & 2015 & 84.17\\\\\n\t95 & Costa Rica  & 2014 & 84.17\\\\\n\t96 & Guatemala   & 2013 & 84.17\\\\\n\t97 & Brazil      & 2012 & 84.17\\\\\n\t98 & Guatemala   & 2013 & 84.17\\\\\n\t99 & El Salvador & 2013 & 84.17\\\\\n\t100 & Colombia    & 2012 & 84.17\\\\\n\\end{tabular}\n",
            "text/plain": [
              "    Country.of.Origin Harvest.Year quality_score\n",
              "1   Brazil            2013         88.83        \n",
              "2   Peru              2012         88.75        \n",
              "3   Costa Rica        2014         87.17        \n",
              "4   Mexico            2012         87.17        \n",
              "5   Brazil            2011         86.92        \n",
              "6   Brazil            2011         86.42        \n",
              "7   Brazil            2010         86.17        \n",
              "8   Brazil            2010         86.17        \n",
              "9   Brazil            2011         86.08        \n",
              "10  Colombia          2013         86.00        \n",
              "11  Guatemala         2016         85.92        \n",
              "12  Colombia          2013         85.92        \n",
              "13  Guatemala         2012         85.83        \n",
              "14  Guatemala         2012         85.83        \n",
              "15  Peru              2013         85.75        \n",
              "16  El Salvador       2013         85.58        \n",
              "17  El Salvador       2012         85.58        \n",
              "18  Guatemala         2013         85.50        \n",
              "19  Brazil            2011         85.42        \n",
              "20  Guatemala         2014         85.33        \n",
              "21  Costa Rica        2014         85.33        \n",
              "22  Costa Rica        2014         85.33        \n",
              "23  Guatemala         2016         85.25        \n",
              "24  Colombia          2015         85.25        \n",
              "25  Colombia          2014         85.25        \n",
              "26  Guatemala         2012         85.17        \n",
              "27  Colombia          2015         85.08        \n",
              "28  Colombia          2012         85.08        \n",
              "29  Colombia          2016         85.00        \n",
              "30  Costa Rica        2016         85.00        \n",
              "⋮   ⋮                 ⋮            ⋮            \n",
              "71  Colombia          2015         84.33        \n",
              "72  Colombia          2013         84.33        \n",
              "73  Mexico            2012         84.33        \n",
              "74  Brazil            2011         84.33        \n",
              "75  Brazil            2011         84.33        \n",
              "76  Colombia          2016         84.25        \n",
              "77  Guatemala         2016         84.25        \n",
              "78  Guatemala         2015         84.25        \n",
              "79  Colombia          2015         84.25        \n",
              "80  Colombia          2015         84.25        \n",
              "81  Colombia          2015         84.25        \n",
              "82  Guatemala         2014         84.25        \n",
              "83  Colombia          2013         84.25        \n",
              "84  Mexico            2012         84.25        \n",
              "85  Mexico            2012         84.25        \n",
              "86  Mexico            2012         84.25        \n",
              "87  Guatemala         2017         84.17        \n",
              "88  Colombia          2016         84.17        \n",
              "89  Costa Rica        2016         84.17        \n",
              "90  Guatemala         2016         84.17        \n",
              "91  Guatemala         2016         84.17        \n",
              "92  Guatemala         2016         84.17        \n",
              "93  Colombia          2015         84.17        \n",
              "94  Brazil            2015         84.17        \n",
              "95  Costa Rica        2014         84.17        \n",
              "96  Guatemala         2013         84.17        \n",
              "97  Brazil            2012         84.17        \n",
              "98  Guatemala         2013         84.17        \n",
              "99  El Salvador       2013         84.17        \n",
              "100 Colombia          2012         84.17        "
            ]
          },
          "metadata": {}
        }
      ]
    },
    {
      "cell_type": "code",
      "source": [
        "options(repr.plot.width = 18, repr.plot.height = 15)\n",
        "multiplot(\n",
        "  ggplot(dataset2, aes(x = Country.of.Origin, y = quality_score, col = Country.of.Origin)) +\n",
        "    geom_boxplot() + theme(legend.position = 'none') +\n",
        "    coord_flip(),\n",
        "  layout = matrix(c(1,2,2), ncol = 1))"
      ],
      "metadata": {
        "colab": {
          "base_uri": "https://localhost:8080/",
          "height": 917
        },
        "id": "TIoyukkhezxo",
        "outputId": "b72d6d0c-b53e-452e-a698-53293b395f94"
      },
      "execution_count": null,
      "outputs": [
        {
          "output_type": "display_data",
          "data": {
            "text/plain": [
              "plot without title"
            ],
            "image/png": "[encoded data removed]"
          },
          "metadata": {
            "image/png": {
              "width": 1080,
              "height": 900
            }
          }
        }
      ]
    },
    {
      "cell_type": "markdown",
      "source": [
        "Para calcular el sesgo vamos a hacer uso de un proceso llamado remuestreo. Usaremos la calificación del producto (quality_score) para esto, lo extraeremos del objeto dataset2 y lo denominaremos muestra:"
      ],
      "metadata": {
        "id": "NQlN4uq1N0f0"
      }
    },
    {
      "cell_type": "code",
      "source": [
        "head(dataset2)"
      ],
      "metadata": {
        "colab": {
          "base_uri": "https://localhost:8080/",
          "height": 286
        },
        "id": "VFBm6oOk1jMV",
        "outputId": "c81ee123-ffa3-41cb-d259-dac910b8ed6e"
      },
      "execution_count": null,
      "outputs": [
        {
          "output_type": "display_data",
          "data": {
            "text/html": [
              "<table class=\"dataframe\">\n",
              "<caption>A data.frame: 6 × 3</caption>\n",
              "<thead>\n",
              "\t<tr><th></th><th scope=col>Country.of.Origin</th><th scope=col>Harvest.Year</th><th scope=col>quality_score</th></tr>\n",
              "\t<tr><th></th><th scope=col>&lt;fct&gt;</th><th scope=col>&lt;fct&gt;</th><th scope=col>&lt;dbl&gt;</th></tr>\n",
              "</thead>\n",
              "<tbody>\n",
              "\t<tr><th scope=row>1</th><td>Brazil    </td><td>2013</td><td>88.83</td></tr>\n",
              "\t<tr><th scope=row>2</th><td>Peru      </td><td>2012</td><td>88.75</td></tr>\n",
              "\t<tr><th scope=row>3</th><td>Costa Rica</td><td>2014</td><td>87.17</td></tr>\n",
              "\t<tr><th scope=row>4</th><td>Mexico    </td><td>2012</td><td>87.17</td></tr>\n",
              "\t<tr><th scope=row>5</th><td>Brazil    </td><td>2011</td><td>86.92</td></tr>\n",
              "\t<tr><th scope=row>6</th><td>Brazil    </td><td>2011</td><td>86.42</td></tr>\n",
              "</tbody>\n",
              "</table>\n"
            ],
            "text/markdown": "\nA data.frame: 6 × 3\n\n| <!--/--> | Country.of.Origin &lt;fct&gt; | Harvest.Year &lt;fct&gt; | quality_score &lt;dbl&gt; |\n|---|---|---|---|\n| 1 | Brazil     | 2013 | 88.83 |\n| 2 | Peru       | 2012 | 88.75 |\n| 3 | Costa Rica | 2014 | 87.17 |\n| 4 | Mexico     | 2012 | 87.17 |\n| 5 | Brazil     | 2011 | 86.92 |\n| 6 | Brazil     | 2011 | 86.42 |\n\n",
            "text/latex": "A data.frame: 6 × 3\n\\begin{tabular}{r|lll}\n  & Country.of.Origin & Harvest.Year & quality\\_score\\\\\n  & <fct> & <fct> & <dbl>\\\\\n\\hline\n\t1 & Brazil     & 2013 & 88.83\\\\\n\t2 & Peru       & 2012 & 88.75\\\\\n\t3 & Costa Rica & 2014 & 87.17\\\\\n\t4 & Mexico     & 2012 & 87.17\\\\\n\t5 & Brazil     & 2011 & 86.92\\\\\n\t6 & Brazil     & 2011 & 86.42\\\\\n\\end{tabular}\n",
            "text/plain": [
              "  Country.of.Origin Harvest.Year quality_score\n",
              "1 Brazil            2013         88.83        \n",
              "2 Peru              2012         88.75        \n",
              "3 Costa Rica        2014         87.17        \n",
              "4 Mexico            2012         87.17        \n",
              "5 Brazil            2011         86.92        \n",
              "6 Brazil            2011         86.42        "
            ]
          },
          "metadata": {}
        }
      ]
    },
    {
      "cell_type": "code",
      "source": [
        "aggregate(quality_score~Country.of.Origin, data = dataset2, FUN=mean)"
      ],
      "metadata": {
        "colab": {
          "base_uri": "https://localhost:8080/",
          "height": 318
        },
        "id": "ICTDzP654ons",
        "outputId": "744a9fc2-b6bd-4bc9-f12d-66304bb7873c"
      },
      "execution_count": null,
      "outputs": [
        {
          "output_type": "display_data",
          "data": {
            "text/html": [
              "<table class=\"dataframe\">\n",
              "<caption>A data.frame: 7 × 2</caption>\n",
              "<thead>\n",
              "\t<tr><th scope=col>Country.of.Origin</th><th scope=col>quality_score</th></tr>\n",
              "\t<tr><th scope=col>&lt;fct&gt;</th><th scope=col>&lt;dbl&gt;</th></tr>\n",
              "</thead>\n",
              "<tbody>\n",
              "\t<tr><td>Brazil     </td><td>82.86806</td></tr>\n",
              "\t<tr><td>Colombia   </td><td>83.23643</td></tr>\n",
              "\t<tr><td>Costa Rica </td><td>82.68426</td></tr>\n",
              "\t<tr><td>El Salvador</td><td>82.82000</td></tr>\n",
              "\t<tr><td>Guatemala  </td><td>81.80372</td></tr>\n",
              "\t<tr><td>Mexico     </td><td>80.87918</td></tr>\n",
              "\t<tr><td>Peru       </td><td>82.28778</td></tr>\n",
              "</tbody>\n",
              "</table>\n"
            ],
            "text/markdown": "\nA data.frame: 7 × 2\n\n| Country.of.Origin &lt;fct&gt; | quality_score &lt;dbl&gt; |\n|---|---|\n| Brazil      | 82.86806 |\n| Colombia    | 83.23643 |\n| Costa Rica  | 82.68426 |\n| El Salvador | 82.82000 |\n| Guatemala   | 81.80372 |\n| Mexico      | 80.87918 |\n| Peru        | 82.28778 |\n\n",
            "text/latex": "A data.frame: 7 × 2\n\\begin{tabular}{ll}\n Country.of.Origin & quality\\_score\\\\\n <fct> & <dbl>\\\\\n\\hline\n\t Brazil      & 82.86806\\\\\n\t Colombia    & 83.23643\\\\\n\t Costa Rica  & 82.68426\\\\\n\t El Salvador & 82.82000\\\\\n\t Guatemala   & 81.80372\\\\\n\t Mexico      & 80.87918\\\\\n\t Peru        & 82.28778\\\\\n\\end{tabular}\n",
            "text/plain": [
              "  Country.of.Origin quality_score\n",
              "1 Brazil            82.86806     \n",
              "2 Colombia          83.23643     \n",
              "3 Costa Rica        82.68426     \n",
              "4 El Salvador       82.82000     \n",
              "5 Guatemala         81.80372     \n",
              "6 Mexico            80.87918     \n",
              "7 Peru              82.28778     "
            ]
          },
          "metadata": {}
        }
      ]
    },
    {
      "cell_type": "code",
      "source": [
        "#Denominamos el objeto dataset2 como muestra\n",
        "muestra <- dataset2$quality_score"
      ],
      "metadata": {
        "id": "L9IqAAIG2fdt"
      },
      "execution_count": null,
      "outputs": []
    },
    {
      "cell_type": "code",
      "source": [
        "#le asignamos el tamaño del objeto a la variable n\n",
        "n <- length(muestra)\n",
        "#Calculamos la varianza y la asignamos a varmedia\n",
        "varmedia <- var(muestra)/n"
      ],
      "metadata": {
        "id": "Pr5YgyxD9UTa"
      },
      "execution_count": null,
      "outputs": []
    },
    {
      "cell_type": "code",
      "source": [
        "#Calculamos la desviación media con la raíz de la varianza\n",
        "desvmedia <- sqrt(varmedia)"
      ],
      "metadata": {
        "id": "QnE0dPLa-RAy"
      },
      "execution_count": null,
      "outputs": []
    },
    {
      "cell_type": "code",
      "source": [
        "varmedia"
      ],
      "metadata": {
        "colab": {
          "base_uri": "https://localhost:8080/",
          "height": 34
        },
        "id": "DvpPlplT9Z1K",
        "outputId": "31c1e5b0-6dea-40d8-8937-5ef7b3291de6"
      },
      "execution_count": null,
      "outputs": [
        {
          "output_type": "display_data",
          "data": {
            "text/html": [
              "0.00981618309662462"
            ],
            "text/markdown": "0.00981618309662462",
            "text/latex": "0.00981618309662462",
            "text/plain": [
              "[1] 0.009816183"
            ]
          },
          "metadata": {}
        }
      ]
    },
    {
      "cell_type": "code",
      "source": [
        "desvmedia"
      ],
      "metadata": {
        "colab": {
          "base_uri": "https://localhost:8080/",
          "height": 34
        },
        "id": "W69Kqyj29c3D",
        "outputId": "7e0bae81-4264-4caa-e0be-c7182d08d9f7"
      },
      "execution_count": null,
      "outputs": [
        {
          "output_type": "display_data",
          "data": {
            "text/html": [
              "0.0990766526313067"
            ],
            "text/markdown": "0.0990766526313067",
            "text/latex": "0.0990766526313067",
            "text/plain": [
              "[1] 0.09907665"
            ]
          },
          "metadata": {}
        }
      ]
    },
    {
      "cell_type": "code",
      "source": [
        "length(muestra)"
      ],
      "metadata": {
        "colab": {
          "base_uri": "https://localhost:8080/",
          "height": 34
        },
        "id": "SL4l-4se8Hcq",
        "outputId": "6ee650a5-c623-40ab-ce8c-8421bb04ea82"
      },
      "execution_count": null,
      "outputs": [
        {
          "output_type": "display_data",
          "data": {
            "text/html": [
              "691"
            ],
            "text/markdown": "691",
            "text/latex": "691",
            "text/plain": [
              "[1] 691"
            ]
          },
          "metadata": {}
        }
      ]
    },
    {
      "cell_type": "code",
      "source": [
        "# Remuestreo\n",
        "B <- 1e+04\n",
        "media <- numeric(B)\n",
        "mediana <- numeric(B)\n",
        "for (k in 1:B) {\n",
        "    remuestra <- sample(muestra, n, replace = TRUE)\n",
        "    media[k] <- mean(remuestra)\n",
        "    # remordenada <- sort(remuestra)\n",
        "    # mediana[k] <- remordenada[8]\n",
        "    mediana[k] <- median(remuestra)\n",
        "}"
      ],
      "metadata": {
        "id": "5EyVI_krAtKp"
      },
      "execution_count": null,
      "outputs": []
    },
    {
      "cell_type": "code",
      "source": [
        "#Calculamos el sesgo\n",
        "sesgomediaboot <- mean(media) - mean(muestra)\n",
        "sesgomedianaboot <- median(mediana) - median(muestra)"
      ],
      "metadata": {
        "id": "6gc1BvBgB_3R"
      },
      "execution_count": null,
      "outputs": []
    },
    {
      "cell_type": "code",
      "source": [
        "sesgomediaboot"
      ],
      "metadata": {
        "colab": {
          "base_uri": "https://localhost:8080/",
          "height": 34
        },
        "id": "qVgNjWugCC0R",
        "outputId": "3562f78b-523c-44cc-d780-0f43b91fd2a9"
      },
      "execution_count": null,
      "outputs": [
        {
          "output_type": "display_data",
          "data": {
            "text/html": [
              "0.000175850940678401"
            ],
            "text/markdown": "0.000175850940678401",
            "text/latex": "0.000175850940678401",
            "text/plain": [
              "[1] 0.0001758509"
            ]
          },
          "metadata": {}
        }
      ]
    },
    {
      "cell_type": "code",
      "source": [
        "sesgomedianaboot"
      ],
      "metadata": {
        "colab": {
          "base_uri": "https://localhost:8080/",
          "height": 34
        },
        "id": "vB_hD6vECF6p",
        "outputId": "034830f3-6041-45b9-bf3a-0c5bec813f09"
      },
      "execution_count": null,
      "outputs": [
        {
          "output_type": "display_data",
          "data": {
            "text/html": [
              "0"
            ],
            "text/markdown": "0",
            "text/latex": "0",
            "text/plain": [
              "[1] 0"
            ]
          },
          "metadata": {}
        }
      ]
    },
    {
      "cell_type": "code",
      "source": [
        "mean(media)"
      ],
      "metadata": {
        "colab": {
          "base_uri": "https://localhost:8080/",
          "height": 34
        },
        "id": "kgvQ9E7nCMnD",
        "outputId": "56844c2c-fb3a-4cc1-ae4c-f5bd4329708a"
      },
      "execution_count": null,
      "outputs": [
        {
          "output_type": "display_data",
          "data": {
            "text/html": [
              "81.9934175296672"
            ],
            "text/markdown": "81.9934175296672",
            "text/latex": "81.9934175296672",
            "text/plain": [
              "[1] 81.99342"
            ]
          },
          "metadata": {}
        }
      ]
    },
    {
      "cell_type": "code",
      "source": [
        "median(mediana)"
      ],
      "metadata": {
        "colab": {
          "base_uri": "https://localhost:8080/",
          "height": 34
        },
        "id": "31Yg9T7uCNYZ",
        "outputId": "86f3dc0c-497c-40f7-9f9b-e9cf364412e5"
      },
      "execution_count": null,
      "outputs": [
        {
          "output_type": "display_data",
          "data": {
            "text/html": [
              "82.5"
            ],
            "text/markdown": "82.5",
            "text/latex": "82.5",
            "text/plain": [
              "[1] 82.5"
            ]
          },
          "metadata": {}
        }
      ]
    },
    {
      "cell_type": "markdown",
      "source": [
        "La tendencia central de las calificaciones es 82.5, el valor de la mediana.\n",
        "El sesgo positivo nos indica que el sistema de medición está por encima del valor real\n"
      ],
      "metadata": {
        "id": "6V-0XklaZtVo"
      }
    },
    {
      "cell_type": "markdown",
      "source": [
        "# INFERENCIA"
      ],
      "metadata": {
        "id": "jZej-YMaNwbi"
      }
    },
    {
      "cell_type": "code",
      "source": [
        "# Vamos a usar los (quality_score) como variable\n",
        "\n",
        "#Sesgo\n",
        "\n",
        "muestra <- dataset2$quality_score\n",
        "\n",
        "n <- length(muestra)\n",
        "varmedia <- (1/(n^2)) * sum((muestra - mean(muestra))^2)\n",
        "desvmedia <- sqrt(varmedia)\n",
        "c(varmedia,desvmedia)"
      ],
      "metadata": {
        "colab": {
          "base_uri": "https://localhost:8080/",
          "height": 34
        },
        "id": "XvNE-kvVNzR-",
        "outputId": "72255730-c1b8-4689-bfff-dce75c7db40a"
      },
      "execution_count": null,
      "outputs": [
        {
          "output_type": "display_data",
          "data": {
            "text/html": [
              "<style>\n",
              ".list-inline {list-style: none; margin:0; padding: 0}\n",
              ".list-inline>li {display: inline-block}\n",
              ".list-inline>li:not(:last-child)::after {content: \"\\00b7\"; padding: 0 .5ex}\n",
              "</style>\n",
              "<ol class=list-inline><li>0.0098019773323748</li><li>0.099004935899049</li></ol>\n"
            ],
            "text/markdown": "1. 0.0098019773323748\n2. 0.099004935899049\n\n\n",
            "text/latex": "\\begin{enumerate*}\n\\item 0.0098019773323748\n\\item 0.099004935899049\n\\end{enumerate*}\n",
            "text/plain": [
              "[1] 0.009801977 0.099004936"
            ]
          },
          "metadata": {}
        }
      ]
    },
    {
      "cell_type": "code",
      "source": [
        "# Coeficiente de variación\n",
        "desvmedia/mean(muestra)\n",
        "\n",
        "statistic <- function(data, i){\n",
        "  remuestra <- data[i]\n",
        "  c(mean(remuestra), median(remuestra))\n",
        "}\n",
        "\n",
        "set.seed(1)\n",
        "\n",
        "B <- 1e+04\n",
        "\n",
        "media <- numeric(B)\n",
        "mediana <- numeric(B)\n",
        "for (k in 1:B) {\n",
        "  remuestra <- sample(muestra, n, replace = TRUE)\n",
        "  media[k] <- mean(remuestra)\n",
        "  # remordenada <- sort(remuestra)\n",
        "  # mediana[k] <- remordenada[8]\n",
        "  mediana[k] <- median(remuestra)\n",
        "}\n",
        "\n",
        "res.boot <- boot(muestra, statistic, R = B)\n",
        "res.boot"
      ],
      "metadata": {
        "colab": {
          "base_uri": "https://localhost:8080/",
          "height": 243
        },
        "id": "0qeEdD4LOCYG",
        "outputId": "6eaf357d-7938-4d20-9129-72feecb22cb1"
      },
      "execution_count": null,
      "outputs": [
        {
          "output_type": "display_data",
          "data": {
            "text/html": [
              "0.00120747678554995"
            ],
            "text/markdown": "0.00120747678554995",
            "text/latex": "0.00120747678554995",
            "text/plain": [
              "[1] 0.001207477"
            ]
          },
          "metadata": {}
        },
        {
          "output_type": "display_data",
          "data": {
            "text/plain": [
              "\n",
              "ORDINARY NONPARAMETRIC BOOTSTRAP\n",
              "\n",
              "\n",
              "Call:\n",
              "boot(data = muestra, statistic = statistic, R = B)\n",
              "\n",
              "\n",
              "Bootstrap Statistics :\n",
              "    original        bias    std. error\n",
              "t1* 81.99324 -0.0006111679  0.10016195\n",
              "t2* 82.50000 -0.0164610000  0.07646666"
            ]
          },
          "metadata": {}
        }
      ]
    },
    {
      "cell_type": "code",
      "source": [
        "# Eficiencia\n",
        "# var(media)\n",
        "# var(mediana)\n",
        "\n",
        "### Estimadores puntuales:\n",
        "# Media\n",
        "# mean(muestra)\n",
        "aggregate(quality_score~Harvest.Year, data = dataset1, FUN=mean)\n",
        "# var(muestra)\n",
        "# sd(muestra)"
      ],
      "metadata": {
        "colab": {
          "base_uri": "https://localhost:8080/",
          "height": 349
        },
        "id": "N-nVSWlIOkwo",
        "outputId": "a05dbe10-1dd2-4fbe-fef9-09aad7affd65"
      },
      "execution_count": null,
      "outputs": [
        {
          "output_type": "display_data",
          "data": {
            "text/html": [
              "<table class=\"dataframe\">\n",
              "<caption>A data.frame: 8 × 2</caption>\n",
              "<thead>\n",
              "\t<tr><th scope=col>Harvest.Year</th><th scope=col>quality_score</th></tr>\n",
              "\t<tr><th scope=col>&lt;fct&gt;</th><th scope=col>&lt;dbl&gt;</th></tr>\n",
              "</thead>\n",
              "<tbody>\n",
              "\t<tr><td>2010</td><td>82.66600</td></tr>\n",
              "\t<tr><td>2011</td><td>83.33000</td></tr>\n",
              "\t<tr><td>2012</td><td>81.51864</td></tr>\n",
              "\t<tr><td>2013</td><td>82.17029</td></tr>\n",
              "\t<tr><td>2014</td><td>82.18115</td></tr>\n",
              "\t<tr><td>2015</td><td>82.75824</td></tr>\n",
              "\t<tr><td>2016</td><td>82.41664</td></tr>\n",
              "\t<tr><td>2017</td><td>82.23776</td></tr>\n",
              "</tbody>\n",
              "</table>\n"
            ],
            "text/markdown": "\nA data.frame: 8 × 2\n\n| Harvest.Year &lt;fct&gt; | quality_score &lt;dbl&gt; |\n|---|---|\n| 2010 | 82.66600 |\n| 2011 | 83.33000 |\n| 2012 | 81.51864 |\n| 2013 | 82.17029 |\n| 2014 | 82.18115 |\n| 2015 | 82.75824 |\n| 2016 | 82.41664 |\n| 2017 | 82.23776 |\n\n",
            "text/latex": "A data.frame: 8 × 2\n\\begin{tabular}{ll}\n Harvest.Year & quality\\_score\\\\\n <fct> & <dbl>\\\\\n\\hline\n\t 2010 & 82.66600\\\\\n\t 2011 & 83.33000\\\\\n\t 2012 & 81.51864\\\\\n\t 2013 & 82.17029\\\\\n\t 2014 & 82.18115\\\\\n\t 2015 & 82.75824\\\\\n\t 2016 & 82.41664\\\\\n\t 2017 & 82.23776\\\\\n\\end{tabular}\n",
            "text/plain": [
              "  Harvest.Year quality_score\n",
              "1 2010         82.66600     \n",
              "2 2011         83.33000     \n",
              "3 2012         81.51864     \n",
              "4 2013         82.17029     \n",
              "5 2014         82.18115     \n",
              "6 2015         82.75824     \n",
              "7 2016         82.41664     \n",
              "8 2017         82.23776     "
            ]
          },
          "metadata": {}
        }
      ]
    },
    {
      "cell_type": "code",
      "source": [
        "### Estimadores puntuales:\n",
        "# Media\n",
        "aggregate(quality_score~Country.of.Origin, data = dataset2, FUN=mean)"
      ],
      "metadata": {
        "colab": {
          "base_uri": "https://localhost:8080/",
          "height": 318
        },
        "id": "30NNEIi9Ovfl",
        "outputId": "ae553966-d953-4ea2-d739-63b2a2f4904b"
      },
      "execution_count": null,
      "outputs": [
        {
          "output_type": "display_data",
          "data": {
            "text/html": [
              "<table class=\"dataframe\">\n",
              "<caption>A data.frame: 7 × 2</caption>\n",
              "<thead>\n",
              "\t<tr><th scope=col>Country.of.Origin</th><th scope=col>quality_score</th></tr>\n",
              "\t<tr><th scope=col>&lt;fct&gt;</th><th scope=col>&lt;dbl&gt;</th></tr>\n",
              "</thead>\n",
              "<tbody>\n",
              "\t<tr><td>Brazil     </td><td>82.86806</td></tr>\n",
              "\t<tr><td>Colombia   </td><td>83.23643</td></tr>\n",
              "\t<tr><td>Costa Rica </td><td>82.68426</td></tr>\n",
              "\t<tr><td>El Salvador</td><td>82.82000</td></tr>\n",
              "\t<tr><td>Guatemala  </td><td>81.80372</td></tr>\n",
              "\t<tr><td>Mexico     </td><td>80.87918</td></tr>\n",
              "\t<tr><td>Peru       </td><td>82.28778</td></tr>\n",
              "</tbody>\n",
              "</table>\n"
            ],
            "text/markdown": "\nA data.frame: 7 × 2\n\n| Country.of.Origin &lt;fct&gt; | quality_score &lt;dbl&gt; |\n|---|---|\n| Brazil      | 82.86806 |\n| Colombia    | 83.23643 |\n| Costa Rica  | 82.68426 |\n| El Salvador | 82.82000 |\n| Guatemala   | 81.80372 |\n| Mexico      | 80.87918 |\n| Peru        | 82.28778 |\n\n",
            "text/latex": "A data.frame: 7 × 2\n\\begin{tabular}{ll}\n Country.of.Origin & quality\\_score\\\\\n <fct> & <dbl>\\\\\n\\hline\n\t Brazil      & 82.86806\\\\\n\t Colombia    & 83.23643\\\\\n\t Costa Rica  & 82.68426\\\\\n\t El Salvador & 82.82000\\\\\n\t Guatemala   & 81.80372\\\\\n\t Mexico      & 80.87918\\\\\n\t Peru        & 82.28778\\\\\n\\end{tabular}\n",
            "text/plain": [
              "  Country.of.Origin quality_score\n",
              "1 Brazil            82.86806     \n",
              "2 Colombia          83.23643     \n",
              "3 Costa Rica        82.68426     \n",
              "4 El Salvador       82.82000     \n",
              "5 Guatemala         81.80372     \n",
              "6 Mexico            80.87918     \n",
              "7 Peru              82.28778     "
            ]
          },
          "metadata": {}
        }
      ]
    },
    {
      "cell_type": "code",
      "source": [
        "## Estimadores por Maxima Verosimilitud\n",
        "x <- dataset2$quality_score # Para trabajar con los datos muestrales que requerimos\n",
        "NegLogLik = function(mu,sigma){-sum(dnorm(x,mu,sigma,log = TRUE))}\n",
        "m.mu<-mean(dataset2$quality_score) # Media\n",
        "m.sigma<-sd(dataset2$quality_score)\n",
        "\n",
        "EMV1 = mle(NegLogLik, start = list(mu=m.mu, sigma=m.sigma))\n",
        "summary(EMV1) # Para visualizar los valores\n",
        "\n",
        "EMV2 = mle2(NegLogLik,\n",
        "            start = list(mu=m.mu,sigma=m.sigma),\n",
        "            data = list(x)) # La otra función\n",
        "summary(EMV2)"
      ],
      "metadata": {
        "colab": {
          "base_uri": "https://localhost:8080/",
          "height": 451
        },
        "id": "n9eE3EP5PBUp",
        "outputId": "ccf40f0f-b6b7-4570-984d-89b1d0c41fd4"
      },
      "execution_count": null,
      "outputs": [
        {
          "output_type": "display_data",
          "data": {
            "text/plain": [
              "Maximum likelihood estimation\n",
              "\n",
              "Call:\n",
              "mle(minuslogl = NegLogLik, start = list(mu = m.mu, sigma = m.sigma))\n",
              "\n",
              "Coefficients:\n",
              "       Estimate Std. Error\n",
              "mu    81.993242 0.09900494\n",
              "sigma  2.602531 0.07000703\n",
              "\n",
              "-2 log L: 3282.834 "
            ]
          },
          "metadata": {}
        },
        {
          "output_type": "display_data",
          "data": {
            "text/plain": [
              "Maximum likelihood estimation\n",
              "\n",
              "Call:\n",
              "mle2(minuslogl = NegLogLik, start = list(mu = m.mu, sigma = m.sigma), \n",
              "    data = list(x))\n",
              "\n",
              "Coefficients:\n",
              "       Estimate Std. Error z value     Pr(z)    \n",
              "mu    81.993242   0.099005 828.173 < 2.2e-16 ***\n",
              "sigma  2.602531   0.070007  37.175 < 2.2e-16 ***\n",
              "---\n",
              "Signif. codes:  0 ‘***’ 0.001 ‘**’ 0.01 ‘*’ 0.05 ‘.’ 0.1 ‘ ’ 1\n",
              "\n",
              "-2 log L: 3282.834 "
            ]
          },
          "metadata": {}
        }
      ]
    },
    {
      "cell_type": "code",
      "source": [
        "########### Estimacion por Intervalos\n",
        "summary(muestra)\n",
        "hist(muestra, breaks = 50)\n",
        "round(sd(muestra),2)\n",
        "\n",
        "# Si suponemos que conocemos la varianza\n",
        "media <- mean(muestra) # Pedimos la media\n",
        "desv <- sd(muestra) # La desviaci?n est?ndar\n",
        "N <- length(muestra) # El tama?o v?lido de la muestra\n",
        "error.est <- desv/sqrt(N) # Calculamos el error est?ndar\n",
        "error <- 1.96*error.est # Fijamos Z=1.96 para indicar un nivel de confianza de 95%\n",
        "lim.inf <- media-error # L?mite inferior del intervalo\n",
        "lim.sup <- media+error # L?mite superior del intervalo\n",
        "\n",
        "resultado1 <- data.frame(media, desv, N, error.est, error, lim.inf, lim.sup)\n",
        "round(t(resultado1),1)"
      ],
      "metadata": {
        "colab": {
          "base_uri": "https://localhost:8080/",
          "height": 1000
        },
        "id": "jJEXX1UwPP0H",
        "outputId": "7bbc3d8c-6dcb-4d9a-9bb7-4f43bfee6f8f"
      },
      "execution_count": null,
      "outputs": [
        {
          "output_type": "display_data",
          "data": {
            "text/plain": [
              "   Min. 1st Qu.  Median    Mean 3rd Qu.    Max. \n",
              "  59.83   81.17   82.50   81.99   83.50   88.83 "
            ]
          },
          "metadata": {}
        },
        {
          "output_type": "display_data",
          "data": {
            "text/html": [
              "2.6"
            ],
            "text/markdown": "2.6",
            "text/latex": "2.6",
            "text/plain": [
              "[1] 2.6"
            ]
          },
          "metadata": {}
        },
        {
          "output_type": "display_data",
          "data": {
            "text/html": [
              "<table class=\"dataframe\">\n",
              "<caption>A matrix: 7 × 1 of type dbl</caption>\n",
              "<tbody>\n",
              "\t<tr><th scope=row>media</th><td> 82.0</td></tr>\n",
              "\t<tr><th scope=row>desv</th><td>  2.6</td></tr>\n",
              "\t<tr><th scope=row>N</th><td>691.0</td></tr>\n",
              "\t<tr><th scope=row>error.est</th><td>  0.1</td></tr>\n",
              "\t<tr><th scope=row>error</th><td>  0.2</td></tr>\n",
              "\t<tr><th scope=row>lim.inf</th><td> 81.8</td></tr>\n",
              "\t<tr><th scope=row>lim.sup</th><td> 82.2</td></tr>\n",
              "</tbody>\n",
              "</table>\n"
            ],
            "text/markdown": "\nA matrix: 7 × 1 of type dbl\n\n| media |  82.0 |\n| desv |   2.6 |\n| N | 691.0 |\n| error.est |   0.1 |\n| error |   0.2 |\n| lim.inf |  81.8 |\n| lim.sup |  82.2 |\n\n",
            "text/latex": "A matrix: 7 × 1 of type dbl\n\\begin{tabular}{r|l}\n\tmedia &  82.0\\\\\n\tdesv &   2.6\\\\\n\tN & 691.0\\\\\n\terror.est &   0.1\\\\\n\terror &   0.2\\\\\n\tlim.inf &  81.8\\\\\n\tlim.sup &  82.2\\\\\n\\end{tabular}\n",
            "text/plain": [
              "          [,1] \n",
              "media      82.0\n",
              "desv        2.6\n",
              "N         691.0\n",
              "error.est   0.1\n",
              "error       0.2\n",
              "lim.inf    81.8\n",
              "lim.sup    82.2"
            ]
          },
          "metadata": {}
        },
        {
          "output_type": "display_data",
          "data": {
            "text/plain": [
              "Plot with title “Histogram of muestra”"
            ],
            "image/png": "[encoded data removed]"
          },
          "metadata": {
            "image/png": {
              "width": 1080,
              "height": 900
            }
          }
        }
      ]
    },
    {
      "cell_type": "code",
      "source": [
        "# O usando la funcion\n",
        "# z.test(muestra, stdev = sd(muestra), conf.level = 0.95)\n",
        "z.test(muestra,sigma2 = sd(muestra), conf.level = 0.95)"
      ],
      "metadata": {
        "colab": {
          "base_uri": "https://localhost:8080/",
          "height": 208
        },
        "id": "HytFJX4APZ6f",
        "outputId": "015e2ac7-4034-45da-ad5c-967b5fd94f8e"
      },
      "execution_count": null,
      "outputs": [
        {
          "output_type": "display_data",
          "data": {
            "text/plain": [
              "\n",
              "\tOne Sample z-test\n",
              "\n",
              "data:  muestra\n",
              "Z = 1335.6, p-value < 2.2e-16\n",
              "alternative hypothesis: true mean is not equal to 0\n",
              "95 percent confidence interval:\n",
              " 81.87291 82.11357\n",
              "sample estimates:\n",
              "mean of muestra \n",
              "       81.99324 \n"
            ]
          },
          "metadata": {}
        }
      ]
    },
    {
      "cell_type": "code",
      "source": [
        "## Como es el caso real, desconocemos la varianza\n",
        "media <- mean(muestra)\n",
        "desv <- sd(muestra)\n",
        "N <- length(muestra)\n",
        "error.est <- desv/sqrt(N)\n",
        "error <- qt(0.975, df= N-1) * error.est # Usar el cuantil 0.975 de t\n",
        "lim.inf <- media-error\n",
        "lim.sup <- media+error\n",
        "\n",
        "qt(0.975, df= N-1)\n",
        "resultado2 <- data.frame(media, desv, N, error.est, error, lim.inf, lim.sup)\n",
        "round(t(resultado2),1)\n",
        "\n",
        "t.test(muestra, mu = mean(muestra), conf.level = 0.95)\n",
        "\n",
        "freq(dataset1$Harvest.Year, plot = T)\n",
        "\n",
        "ggplot(data = dataset1, aes(x = Harvest.Year)) + geom_bar(stat = 'count') +\n",
        "  geom_text(stat='count', aes(label=..count..), vjust=-1) +\n",
        "  labs(x = '', y = '')"
      ],
      "metadata": {
        "colab": {
          "base_uri": "https://localhost:8080/",
          "height": 1000
        },
        "id": "DDsalhE4PcFj",
        "outputId": "fba92733-06cf-4e4c-b07c-e520d10f2e35"
      },
      "execution_count": null,
      "outputs": [
        {
          "output_type": "display_data",
          "data": {
            "text/html": [
              "1.96340799494752"
            ],
            "text/markdown": "1.96340799494752",
            "text/latex": "1.96340799494752",
            "text/plain": [
              "[1] 1.963408"
            ]
          },
          "metadata": {}
        },
        {
          "output_type": "display_data",
          "data": {
            "text/html": [
              "<table class=\"dataframe\">\n",
              "<caption>A matrix: 7 × 1 of type dbl</caption>\n",
              "<tbody>\n",
              "\t<tr><th scope=row>media</th><td> 82.0</td></tr>\n",
              "\t<tr><th scope=row>desv</th><td>  2.6</td></tr>\n",
              "\t<tr><th scope=row>N</th><td>691.0</td></tr>\n",
              "\t<tr><th scope=row>error.est</th><td>  0.1</td></tr>\n",
              "\t<tr><th scope=row>error</th><td>  0.2</td></tr>\n",
              "\t<tr><th scope=row>lim.inf</th><td> 81.8</td></tr>\n",
              "\t<tr><th scope=row>lim.sup</th><td> 82.2</td></tr>\n",
              "</tbody>\n",
              "</table>\n"
            ],
            "text/markdown": "\nA matrix: 7 × 1 of type dbl\n\n| media |  82.0 |\n| desv |   2.6 |\n| N | 691.0 |\n| error.est |   0.1 |\n| error |   0.2 |\n| lim.inf |  81.8 |\n| lim.sup |  82.2 |\n\n",
            "text/latex": "A matrix: 7 × 1 of type dbl\n\\begin{tabular}{r|l}\n\tmedia &  82.0\\\\\n\tdesv &   2.6\\\\\n\tN & 691.0\\\\\n\terror.est &   0.1\\\\\n\terror &   0.2\\\\\n\tlim.inf &  81.8\\\\\n\tlim.sup &  82.2\\\\\n\\end{tabular}\n",
            "text/plain": [
              "          [,1] \n",
              "media      82.0\n",
              "desv        2.6\n",
              "N         691.0\n",
              "error.est   0.1\n",
              "error       0.2\n",
              "lim.inf    81.8\n",
              "lim.sup    82.2"
            ]
          },
          "metadata": {}
        },
        {
          "output_type": "display_data",
          "data": {
            "text/plain": [
              "\n",
              "\tOne Sample t-test\n",
              "\n",
              "data:  muestra\n",
              "t = 0, df = 690, p-value = 1\n",
              "alternative hypothesis: true mean is not equal to 81.99324\n",
              "95 percent confidence interval:\n",
              " 81.79871 82.18777\n",
              "sample estimates:\n",
              "mean of x \n",
              " 81.99324 \n"
            ]
          },
          "metadata": {}
        },
        {
          "output_type": "display_data",
          "data": {
            "text/html": [
              "<table class=\"dataframe\">\n",
              "<caption>A freqtable: 47 × 2 of type dbl</caption>\n",
              "<thead>\n",
              "\t<tr><th></th><th scope=col>Frequency</th><th scope=col>Percent</th></tr>\n",
              "</thead>\n",
              "<tbody>\n",
              "\t<tr><th scope=row>08/09 crop</th><td>   0</td><td>  0.0000000</td></tr>\n",
              "\t<tr><th scope=row>1t/2011</th><td>   0</td><td>  0.0000000</td></tr>\n",
              "\t<tr><th scope=row>1T/2011</th><td>   0</td><td>  0.0000000</td></tr>\n",
              "\t<tr><th scope=row>2009 - 2010</th><td>   0</td><td>  0.0000000</td></tr>\n",
              "\t<tr><th scope=row>2009 / 2010</th><td>   0</td><td>  0.0000000</td></tr>\n",
              "\t<tr><th scope=row>2009-2010</th><td>   0</td><td>  0.0000000</td></tr>\n",
              "\t<tr><th scope=row>2009/2010</th><td>   0</td><td>  0.0000000</td></tr>\n",
              "\t<tr><th scope=row>2010</th><td>  10</td><td>  0.9107468</td></tr>\n",
              "\t<tr><th scope=row>2010-2011</th><td>   0</td><td>  0.0000000</td></tr>\n",
              "\t<tr><th scope=row>2011</th><td>  26</td><td>  2.3679417</td></tr>\n",
              "\t<tr><th scope=row>2011/2012</th><td>   0</td><td>  0.0000000</td></tr>\n",
              "\t<tr><th scope=row>2012</th><td> 352</td><td> 32.0582878</td></tr>\n",
              "\t<tr><th scope=row>2013</th><td> 170</td><td> 15.4826958</td></tr>\n",
              "\t<tr><th scope=row>2013/2014</th><td>   0</td><td>  0.0000000</td></tr>\n",
              "\t<tr><th scope=row>2014</th><td> 226</td><td> 20.5828780</td></tr>\n",
              "\t<tr><th scope=row>2014/2015</th><td>   0</td><td>  0.0000000</td></tr>\n",
              "\t<tr><th scope=row>2015</th><td> 125</td><td> 11.3843352</td></tr>\n",
              "\t<tr><th scope=row>2015/2016</th><td>   0</td><td>  0.0000000</td></tr>\n",
              "\t<tr><th scope=row>2016</th><td> 122</td><td> 11.1111111</td></tr>\n",
              "\t<tr><th scope=row>2016 / 2017</th><td>   0</td><td>  0.0000000</td></tr>\n",
              "\t<tr><th scope=row>2016/2017</th><td>   0</td><td>  0.0000000</td></tr>\n",
              "\t<tr><th scope=row>2017</th><td>  67</td><td>  6.1020036</td></tr>\n",
              "\t<tr><th scope=row>2017 / 2018</th><td>   0</td><td>  0.0000000</td></tr>\n",
              "\t<tr><th scope=row>2018</th><td>   0</td><td>  0.0000000</td></tr>\n",
              "\t<tr><th scope=row>23 July 2010</th><td>   0</td><td>  0.0000000</td></tr>\n",
              "\t<tr><th scope=row>3T/2011</th><td>   0</td><td>  0.0000000</td></tr>\n",
              "\t<tr><th scope=row>47/2010</th><td>   0</td><td>  0.0000000</td></tr>\n",
              "\t<tr><th scope=row>4T/10</th><td>   0</td><td>  0.0000000</td></tr>\n",
              "\t<tr><th scope=row>4t/2010</th><td>   0</td><td>  0.0000000</td></tr>\n",
              "\t<tr><th scope=row>4T/2010</th><td>   0</td><td>  0.0000000</td></tr>\n",
              "\t<tr><th scope=row>4t/2011</th><td>   0</td><td>  0.0000000</td></tr>\n",
              "\t<tr><th scope=row>4T72010</th><td>   0</td><td>  0.0000000</td></tr>\n",
              "\t<tr><th scope=row>Abril - Julio</th><td>   0</td><td>  0.0000000</td></tr>\n",
              "\t<tr><th scope=row>Abril - Julio /2011</th><td>   0</td><td>  0.0000000</td></tr>\n",
              "\t<tr><th scope=row>August to December</th><td>   0</td><td>  0.0000000</td></tr>\n",
              "\t<tr><th scope=row>December 2009-March 2010</th><td>   0</td><td>  0.0000000</td></tr>\n",
              "\t<tr><th scope=row>Fall 2009</th><td>   0</td><td>  0.0000000</td></tr>\n",
              "\t<tr><th scope=row>January 2011</th><td>   0</td><td>  0.0000000</td></tr>\n",
              "\t<tr><th scope=row>January Through April</th><td>   0</td><td>  0.0000000</td></tr>\n",
              "\t<tr><th scope=row>March 2010</th><td>   0</td><td>  0.0000000</td></tr>\n",
              "\t<tr><th scope=row>May-August</th><td>   0</td><td>  0.0000000</td></tr>\n",
              "\t<tr><th scope=row>Mayo a Julio</th><td>   0</td><td>  0.0000000</td></tr>\n",
              "\t<tr><th scope=row>mmm</th><td>   0</td><td>  0.0000000</td></tr>\n",
              "\t<tr><th scope=row>Sept 2009 - April 2010</th><td>   0</td><td>  0.0000000</td></tr>\n",
              "\t<tr><th scope=row>Spring 2011 in Colombia.</th><td>   0</td><td>  0.0000000</td></tr>\n",
              "\t<tr><th scope=row>TEST</th><td>   0</td><td>  0.0000000</td></tr>\n",
              "\t<tr><th scope=row>Total</th><td>1098</td><td>100.0000000</td></tr>\n",
              "</tbody>\n",
              "</table>\n"
            ],
            "text/markdown": "\nA freqtable: 47 × 2 of type dbl\n\n| <!--/--> | Frequency | Percent |\n|---|---|---|\n| 08/09 crop |    0 |   0.0000000 |\n| 1t/2011 |    0 |   0.0000000 |\n| 1T/2011 |    0 |   0.0000000 |\n| 2009 - 2010 |    0 |   0.0000000 |\n| 2009 / 2010 |    0 |   0.0000000 |\n| 2009-2010 |    0 |   0.0000000 |\n| 2009/2010 |    0 |   0.0000000 |\n| 2010 |   10 |   0.9107468 |\n| 2010-2011 |    0 |   0.0000000 |\n| 2011 |   26 |   2.3679417 |\n| 2011/2012 |    0 |   0.0000000 |\n| 2012 |  352 |  32.0582878 |\n| 2013 |  170 |  15.4826958 |\n| 2013/2014 |    0 |   0.0000000 |\n| 2014 |  226 |  20.5828780 |\n| 2014/2015 |    0 |   0.0000000 |\n| 2015 |  125 |  11.3843352 |\n| 2015/2016 |    0 |   0.0000000 |\n| 2016 |  122 |  11.1111111 |\n| 2016 / 2017 |    0 |   0.0000000 |\n| 2016/2017 |    0 |   0.0000000 |\n| 2017 |   67 |   6.1020036 |\n| 2017 / 2018 |    0 |   0.0000000 |\n| 2018 |    0 |   0.0000000 |\n| 23 July 2010 |    0 |   0.0000000 |\n| 3T/2011 |    0 |   0.0000000 |\n| 47/2010 |    0 |   0.0000000 |\n| 4T/10 |    0 |   0.0000000 |\n| 4t/2010 |    0 |   0.0000000 |\n| 4T/2010 |    0 |   0.0000000 |\n| 4t/2011 |    0 |   0.0000000 |\n| 4T72010 |    0 |   0.0000000 |\n| Abril - Julio |    0 |   0.0000000 |\n| Abril - Julio /2011 |    0 |   0.0000000 |\n| August to December |    0 |   0.0000000 |\n| December 2009-March 2010 |    0 |   0.0000000 |\n| Fall 2009 |    0 |   0.0000000 |\n| January 2011 |    0 |   0.0000000 |\n| January Through April |    0 |   0.0000000 |\n| March 2010 |    0 |   0.0000000 |\n| May-August |    0 |   0.0000000 |\n| Mayo a Julio |    0 |   0.0000000 |\n| mmm |    0 |   0.0000000 |\n| Sept 2009 - April 2010 |    0 |   0.0000000 |\n| Spring 2011 in Colombia. |    0 |   0.0000000 |\n| TEST |    0 |   0.0000000 |\n| Total | 1098 | 100.0000000 |\n\n",
            "text/latex": "A freqtable: 47 × 2 of type dbl\n\\begin{tabular}{r|ll}\n  & Frequency & Percent\\\\\n\\hline\n\t08/09 crop &    0 &   0.0000000\\\\\n\t1t/2011 &    0 &   0.0000000\\\\\n\t1T/2011 &    0 &   0.0000000\\\\\n\t2009 - 2010 &    0 &   0.0000000\\\\\n\t2009 / 2010 &    0 &   0.0000000\\\\\n\t2009-2010 &    0 &   0.0000000\\\\\n\t2009/2010 &    0 &   0.0000000\\\\\n\t2010 &   10 &   0.9107468\\\\\n\t2010-2011 &    0 &   0.0000000\\\\\n\t2011 &   26 &   2.3679417\\\\\n\t2011/2012 &    0 &   0.0000000\\\\\n\t2012 &  352 &  32.0582878\\\\\n\t2013 &  170 &  15.4826958\\\\\n\t2013/2014 &    0 &   0.0000000\\\\\n\t2014 &  226 &  20.5828780\\\\\n\t2014/2015 &    0 &   0.0000000\\\\\n\t2015 &  125 &  11.3843352\\\\\n\t2015/2016 &    0 &   0.0000000\\\\\n\t2016 &  122 &  11.1111111\\\\\n\t2016 / 2017 &    0 &   0.0000000\\\\\n\t2016/2017 &    0 &   0.0000000\\\\\n\t2017 &   67 &   6.1020036\\\\\n\t2017 / 2018 &    0 &   0.0000000\\\\\n\t2018 &    0 &   0.0000000\\\\\n\t23 July 2010 &    0 &   0.0000000\\\\\n\t3T/2011 &    0 &   0.0000000\\\\\n\t47/2010 &    0 &   0.0000000\\\\\n\t4T/10 &    0 &   0.0000000\\\\\n\t4t/2010 &    0 &   0.0000000\\\\\n\t4T/2010 &    0 &   0.0000000\\\\\n\t4t/2011 &    0 &   0.0000000\\\\\n\t4T72010 &    0 &   0.0000000\\\\\n\tAbril - Julio &    0 &   0.0000000\\\\\n\tAbril - Julio /2011 &    0 &   0.0000000\\\\\n\tAugust to December &    0 &   0.0000000\\\\\n\tDecember 2009-March 2010 &    0 &   0.0000000\\\\\n\tFall 2009 &    0 &   0.0000000\\\\\n\tJanuary 2011 &    0 &   0.0000000\\\\\n\tJanuary Through April &    0 &   0.0000000\\\\\n\tMarch 2010 &    0 &   0.0000000\\\\\n\tMay-August &    0 &   0.0000000\\\\\n\tMayo a Julio &    0 &   0.0000000\\\\\n\tmmm &    0 &   0.0000000\\\\\n\tSept 2009 - April 2010 &    0 &   0.0000000\\\\\n\tSpring 2011 in Colombia. &    0 &   0.0000000\\\\\n\tTEST &    0 &   0.0000000\\\\\n\tTotal & 1098 & 100.0000000\\\\\n\\end{tabular}\n",
            "text/plain": [
              "                         Frequency Percent    \n",
              "08/09 crop                  0        0.0000000\n",
              "1t/2011                     0        0.0000000\n",
              "1T/2011                     0        0.0000000\n",
              "2009 - 2010                 0        0.0000000\n",
              "2009 / 2010                 0        0.0000000\n",
              "2009-2010                   0        0.0000000\n",
              "2009/2010                   0        0.0000000\n",
              "2010                       10        0.9107468\n",
              "2010-2011                   0        0.0000000\n",
              "2011                       26        2.3679417\n",
              "2011/2012                   0        0.0000000\n",
              "2012                      352       32.0582878\n",
              "2013                      170       15.4826958\n",
              "2013/2014                   0        0.0000000\n",
              "2014                      226       20.5828780\n",
              "2014/2015                   0        0.0000000\n",
              "2015                      125       11.3843352\n",
              "2015/2016                   0        0.0000000\n",
              "2016                      122       11.1111111\n",
              "2016 / 2017                 0        0.0000000\n",
              "2016/2017                   0        0.0000000\n",
              "2017                       67        6.1020036\n",
              "2017 / 2018                 0        0.0000000\n",
              "2018                        0        0.0000000\n",
              "23 July 2010                0        0.0000000\n",
              "3T/2011                     0        0.0000000\n",
              "47/2010                     0        0.0000000\n",
              "4T/10                       0        0.0000000\n",
              "4t/2010                     0        0.0000000\n",
              "4T/2010                     0        0.0000000\n",
              "4t/2011                     0        0.0000000\n",
              "4T72010                     0        0.0000000\n",
              "Abril - Julio               0        0.0000000\n",
              "Abril - Julio /2011         0        0.0000000\n",
              "August to December          0        0.0000000\n",
              "December 2009-March 2010    0        0.0000000\n",
              "Fall 2009                   0        0.0000000\n",
              "January 2011                0        0.0000000\n",
              "January Through April       0        0.0000000\n",
              "March 2010                  0        0.0000000\n",
              "May-August                  0        0.0000000\n",
              "Mayo a Julio                0        0.0000000\n",
              "mmm                         0        0.0000000\n",
              "Sept 2009 - April 2010      0        0.0000000\n",
              "Spring 2011 in Colombia.    0        0.0000000\n",
              "TEST                        0        0.0000000\n",
              "Total                    1098      100.0000000"
            ]
          },
          "metadata": {}
        },
        {
          "output_type": "display_data",
          "data": {
            "text/plain": [
              "plot without title"
            ],
            "image/png": "[encoded data removed]"
          },
          "metadata": {
            "image/png": {
              "width": 1080,
              "height": 900
            }
          }
        },
        {
          "output_type": "display_data",
          "data": {
            "text/plain": [
              "plot without title"
            ],
            "image/png": "[encoded data removed]"
          },
          "metadata": {
            "image/png": {
              "width": 1080,
              "height": 900
            }
          }
        }
      ]
    },
    {
      "cell_type": "code",
      "source": [
        "## Variable dicotomica\n",
        "cat <- ifelse(dataset2$Harvest.Year==\"2014\",'2014', 'Others')\n",
        "round(prop.table(table(cat))*100,1)\n",
        "\n",
        "cat2 <- ifelse(dataset2$Harvest.Year==\"2014\", 1, 0)\n",
        "p <- mean(cat2)\n",
        "paste0(\"Prop. 2014: \", round(p*100,1),\"%\")\n",
        "paste0(\"Prop. Others: \", round((1-p)*100,1),\"%\")\n",
        "\n",
        "n <- length(cat2) # Tamano de la muestra \n",
        "error.est.p <- sqrt((p*(1-p))/n) # Error estandar de la propocion\n",
        "error.p <- 1.96 * error.est.p # Usamos Z = 1.96 para indicar un nivel de confianza del 95%\n",
        "lim.inf.p <- p - error.p \n",
        "lim.sup.p <- p + error.p\n",
        "\n",
        "result.p <- data.frame(p, n, error.est.p, error.p, lim.inf.p, lim.sup.p)\n",
        "round(t(result.p),3)"
      ],
      "metadata": {
        "colab": {
          "base_uri": "https://localhost:8080/",
          "height": 327
        },
        "id": "OrhFRKVGQNld",
        "outputId": "3e0935e4-a206-4106-9b37-76c17d30cb31"
      },
      "execution_count": null,
      "outputs": [
        {
          "output_type": "display_data",
          "data": {
            "text/plain": [
              "cat\n",
              "  2014 Others \n",
              "  13.7   86.3 "
            ]
          },
          "metadata": {}
        },
        {
          "output_type": "display_data",
          "data": {
            "text/html": [
              "'Prop. 2014: 13.7%'"
            ],
            "text/markdown": "'Prop. 2014: 13.7%'",
            "text/latex": "'Prop. 2014: 13.7\\%'",
            "text/plain": [
              "[1] \"Prop. 2014: 13.7%\""
            ]
          },
          "metadata": {}
        },
        {
          "output_type": "display_data",
          "data": {
            "text/html": [
              "'Prop. Others: 86.3%'"
            ],
            "text/markdown": "'Prop. Others: 86.3%'",
            "text/latex": "'Prop. Others: 86.3\\%'",
            "text/plain": [
              "[1] \"Prop. Others: 86.3%\""
            ]
          },
          "metadata": {}
        },
        {
          "output_type": "display_data",
          "data": {
            "text/html": [
              "<table class=\"dataframe\">\n",
              "<caption>A matrix: 6 × 1 of type dbl</caption>\n",
              "<tbody>\n",
              "\t<tr><th scope=row>p</th><td>  0.137</td></tr>\n",
              "\t<tr><th scope=row>n</th><td>691.000</td></tr>\n",
              "\t<tr><th scope=row>error.est.p</th><td>  0.013</td></tr>\n",
              "\t<tr><th scope=row>error.p</th><td>  0.026</td></tr>\n",
              "\t<tr><th scope=row>lim.inf.p</th><td>  0.112</td></tr>\n",
              "\t<tr><th scope=row>lim.sup.p</th><td>  0.163</td></tr>\n",
              "</tbody>\n",
              "</table>\n"
            ],
            "text/markdown": "\nA matrix: 6 × 1 of type dbl\n\n| p |   0.137 |\n| n | 691.000 |\n| error.est.p |   0.013 |\n| error.p |   0.026 |\n| lim.inf.p |   0.112 |\n| lim.sup.p |   0.163 |\n\n",
            "text/latex": "A matrix: 6 × 1 of type dbl\n\\begin{tabular}{r|l}\n\tp &   0.137\\\\\n\tn & 691.000\\\\\n\terror.est.p &   0.013\\\\\n\terror.p &   0.026\\\\\n\tlim.inf.p &   0.112\\\\\n\tlim.sup.p &   0.163\\\\\n\\end{tabular}\n",
            "text/plain": [
              "            [,1]   \n",
              "p             0.137\n",
              "n           691.000\n",
              "error.est.p   0.013\n",
              "error.p       0.026\n",
              "lim.inf.p     0.112\n",
              "lim.sup.p     0.163"
            ]
          },
          "metadata": {}
        }
      ]
    },
    {
      "cell_type": "code",
      "source": [
        "# O usando la funcion binconf\n",
        "binconf(x = nrow(dataset2[dataset2$Harvest.Year==\"2014\",]),\n",
        "        n = nrow(dataset2), alpha = 0.05)\n",
        "\n",
        "# Para la Varianza\n",
        "var.test(x=muestra, conf.level=0.95)"
      ],
      "metadata": {
        "colab": {
          "base_uri": "https://localhost:8080/",
          "height": 289
        },
        "id": "Pb2qcH64RHsI",
        "outputId": "30628fdf-735f-4ff2-f3ae-c32406f94a91"
      },
      "execution_count": null,
      "outputs": [
        {
          "output_type": "display_data",
          "data": {
            "text/html": [
              "<table class=\"dataframe\">\n",
              "<caption>A matrix: 1 × 3 of type dbl</caption>\n",
              "<thead>\n",
              "\t<tr><th></th><th scope=col>PointEst</th><th scope=col>Lower</th><th scope=col>Upper</th></tr>\n",
              "</thead>\n",
              "<tbody>\n",
              "\t<tr><th scope=row></th><td>0.1374819</td><td>0.1138035</td><td>0.1651687</td></tr>\n",
              "</tbody>\n",
              "</table>\n"
            ],
            "text/markdown": "\nA matrix: 1 × 3 of type dbl\n\n| <!--/--> | PointEst | Lower | Upper |\n|---|---|---|---|\n| <!----> | 0.1374819 | 0.1138035 | 0.1651687 |\n\n",
            "text/latex": "A matrix: 1 × 3 of type dbl\n\\begin{tabular}{r|lll}\n  & PointEst & Lower & Upper\\\\\n\\hline\n\t & 0.1374819 & 0.1138035 & 0.1651687\\\\\n\\end{tabular}\n",
            "text/plain": [
              " PointEst  Lower     Upper    \n",
              " 0.1374819 0.1138035 0.1651687"
            ]
          },
          "metadata": {}
        },
        {
          "output_type": "display_data",
          "data": {
            "text/plain": [
              "\n",
              "\tX-squared test for variance\n",
              "\n",
              "data:  muestra\n",
              "X-squared = 4680.3, df = 690, p-value < 2.2e-16\n",
              "alternative hypothesis: true variance is not equal to 1\n",
              "95 percent confidence interval:\n",
              " 6.120506 7.559741\n",
              "sample estimates:\n",
              "variance of x \n",
              "     6.782983 \n"
            ]
          },
          "metadata": {}
        }
      ]
    }
  ]
}